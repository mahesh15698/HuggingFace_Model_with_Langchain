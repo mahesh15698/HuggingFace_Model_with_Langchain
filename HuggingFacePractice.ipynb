{
  "cells": [
    {
      "cell_type": "markdown",
      "metadata": {
        "id": "view-in-github",
        "colab_type": "text"
      },
      "source": [
        "<a href=\"https://colab.research.google.com/github/mahesh15698/HuggingFace_Model_with_Langchain/blob/main/HuggingFacePractice.ipynb\" target=\"_parent\"><img src=\"https://colab.research.google.com/assets/colab-badge.svg\" alt=\"Open In Colab\"/></a>"
      ]
    },
    {
      "cell_type": "markdown",
      "id": "0fec89bc-2f64-4f07-a489-219ee12b6518",
      "metadata": {
        "jp-MarkdownHeadingCollapsed": true,
        "id": "0fec89bc-2f64-4f07-a489-219ee12b6518"
      },
      "source": [
        "# Necessary Libraries"
      ]
    },
    {
      "cell_type": "code",
      "execution_count": null,
      "id": "7545b9b0-9ecb-472c-8867-ea3e382b6742",
      "metadata": {
        "id": "7545b9b0-9ecb-472c-8867-ea3e382b6742",
        "outputId": "636d9e9f-a977-44a7-f504-00ea8d68205a"
      },
      "outputs": [
        {
          "name": "stdout",
          "output_type": "stream",
          "text": [
            "Collecting huggingface_hub\n",
            "  Downloading huggingface_hub-0.20.3-py3-none-any.whl.metadata (12 kB)\n",
            "Collecting filelock (from huggingface_hub)\n",
            "  Using cached filelock-3.13.1-py3-none-any.whl.metadata (2.8 kB)\n",
            "Collecting fsspec>=2023.5.0 (from huggingface_hub)\n",
            "  Using cached fsspec-2023.12.2-py3-none-any.whl.metadata (6.8 kB)\n",
            "Requirement already satisfied: requests in c:\\users\\admin\\anaconda3\\envs\\envlangchain\\lib\\site-packages (from huggingface_hub) (2.31.0)\n",
            "Requirement already satisfied: tqdm>=4.42.1 in c:\\users\\admin\\anaconda3\\envs\\envlangchain\\lib\\site-packages (from huggingface_hub) (4.66.1)\n",
            "Requirement already satisfied: pyyaml>=5.1 in c:\\users\\admin\\anaconda3\\envs\\envlangchain\\lib\\site-packages (from huggingface_hub) (6.0.1)\n",
            "Requirement already satisfied: typing-extensions>=3.7.4.3 in c:\\users\\admin\\anaconda3\\envs\\envlangchain\\lib\\site-packages (from huggingface_hub) (4.9.0)\n",
            "Requirement already satisfied: packaging>=20.9 in c:\\users\\admin\\anaconda3\\envs\\envlangchain\\lib\\site-packages (from huggingface_hub) (23.2)\n",
            "Requirement already satisfied: colorama in c:\\users\\admin\\anaconda3\\envs\\envlangchain\\lib\\site-packages (from tqdm>=4.42.1->huggingface_hub) (0.4.6)\n",
            "Requirement already satisfied: charset-normalizer<4,>=2 in c:\\users\\admin\\anaconda3\\envs\\envlangchain\\lib\\site-packages (from requests->huggingface_hub) (3.3.2)\n",
            "Requirement already satisfied: idna<4,>=2.5 in c:\\users\\admin\\anaconda3\\envs\\envlangchain\\lib\\site-packages (from requests->huggingface_hub) (3.6)\n",
            "Requirement already satisfied: urllib3<3,>=1.21.1 in c:\\users\\admin\\anaconda3\\envs\\envlangchain\\lib\\site-packages (from requests->huggingface_hub) (2.2.0)\n",
            "Requirement already satisfied: certifi>=2017.4.17 in c:\\users\\admin\\anaconda3\\envs\\envlangchain\\lib\\site-packages (from requests->huggingface_hub) (2023.11.17)\n",
            "Downloading huggingface_hub-0.20.3-py3-none-any.whl (330 kB)\n",
            "   ---------------------------------------- 0.0/330.1 kB ? eta -:--:--\n",
            "   - -------------------------------------- 10.2/330.1 kB ? eta -:--:--\n",
            "   --- ----------------------------------- 30.7/330.1 kB 435.7 kB/s eta 0:00:01\n",
            "   -------------- ------------------------- 122.9/330.1 kB 1.0 MB/s eta 0:00:01\n",
            "   ---------------------------------------- 330.1/330.1 kB 2.1 MB/s eta 0:00:00\n",
            "Using cached fsspec-2023.12.2-py3-none-any.whl (168 kB)\n",
            "Using cached filelock-3.13.1-py3-none-any.whl (11 kB)\n",
            "Installing collected packages: fsspec, filelock, huggingface_hub\n",
            "Successfully installed filelock-3.13.1 fsspec-2023.12.2 huggingface_hub-0.20.3\n"
          ]
        }
      ],
      "source": [
        "!pip install huggingface_hub"
      ]
    },
    {
      "cell_type": "code",
      "execution_count": null,
      "id": "aca6be23-6d50-405e-a1f7-e74d1dd11ced",
      "metadata": {
        "id": "aca6be23-6d50-405e-a1f7-e74d1dd11ced",
        "outputId": "163fe8ec-4846-4c9a-e479-71c72631c5ce"
      },
      "outputs": [
        {
          "name": "stdout",
          "output_type": "stream",
          "text": [
            "Collecting transformers\n",
            "  Downloading transformers-4.37.2-py3-none-any.whl.metadata (129 kB)\n",
            "     ---------------------------------------- 0.0/129.4 kB ? eta -:--:--\n",
            "     --- ------------------------------------ 10.2/129.4 kB ? eta -:--:--\n",
            "     -------- ---------------------------- 30.7/129.4 kB 262.6 kB/s eta 0:00:01\n",
            "     ----------- ------------------------- 41.0/129.4 kB 281.8 kB/s eta 0:00:01\n",
            "     ---------------------------------- - 122.9/129.4 kB 654.9 kB/s eta 0:00:01\n",
            "     ------------------------------------ 129.4/129.4 kB 633.6 kB/s eta 0:00:00\n",
            "Requirement already satisfied: filelock in c:\\users\\admin\\anaconda3\\envs\\envlangchain\\lib\\site-packages (from transformers) (3.13.1)\n",
            "Requirement already satisfied: huggingface-hub<1.0,>=0.19.3 in c:\\users\\admin\\anaconda3\\envs\\envlangchain\\lib\\site-packages (from transformers) (0.20.3)\n",
            "Requirement already satisfied: numpy>=1.17 in c:\\users\\admin\\anaconda3\\envs\\envlangchain\\lib\\site-packages (from transformers) (1.26.3)\n",
            "Requirement already satisfied: packaging>=20.0 in c:\\users\\admin\\anaconda3\\envs\\envlangchain\\lib\\site-packages (from transformers) (23.2)\n",
            "Requirement already satisfied: pyyaml>=5.1 in c:\\users\\admin\\anaconda3\\envs\\envlangchain\\lib\\site-packages (from transformers) (6.0.1)\n",
            "Requirement already satisfied: regex!=2019.12.17 in c:\\users\\admin\\anaconda3\\envs\\envlangchain\\lib\\site-packages (from transformers) (2023.12.25)\n",
            "Requirement already satisfied: requests in c:\\users\\admin\\anaconda3\\envs\\envlangchain\\lib\\site-packages (from transformers) (2.31.0)\n",
            "Collecting tokenizers<0.19,>=0.14 (from transformers)\n",
            "  Downloading tokenizers-0.15.1-cp39-none-win_amd64.whl.metadata (6.8 kB)\n",
            "Collecting safetensors>=0.4.1 (from transformers)\n",
            "  Downloading safetensors-0.4.2-cp39-none-win_amd64.whl.metadata (3.9 kB)\n",
            "Requirement already satisfied: tqdm>=4.27 in c:\\users\\admin\\anaconda3\\envs\\envlangchain\\lib\\site-packages (from transformers) (4.66.1)\n",
            "Requirement already satisfied: fsspec>=2023.5.0 in c:\\users\\admin\\anaconda3\\envs\\envlangchain\\lib\\site-packages (from huggingface-hub<1.0,>=0.19.3->transformers) (2023.12.2)\n",
            "Requirement already satisfied: typing-extensions>=3.7.4.3 in c:\\users\\admin\\anaconda3\\envs\\envlangchain\\lib\\site-packages (from huggingface-hub<1.0,>=0.19.3->transformers) (4.9.0)\n",
            "Requirement already satisfied: colorama in c:\\users\\admin\\anaconda3\\envs\\envlangchain\\lib\\site-packages (from tqdm>=4.27->transformers) (0.4.6)\n",
            "Requirement already satisfied: charset-normalizer<4,>=2 in c:\\users\\admin\\anaconda3\\envs\\envlangchain\\lib\\site-packages (from requests->transformers) (3.3.2)\n",
            "Requirement already satisfied: idna<4,>=2.5 in c:\\users\\admin\\anaconda3\\envs\\envlangchain\\lib\\site-packages (from requests->transformers) (3.6)\n",
            "Requirement already satisfied: urllib3<3,>=1.21.1 in c:\\users\\admin\\anaconda3\\envs\\envlangchain\\lib\\site-packages (from requests->transformers) (2.2.0)\n",
            "Requirement already satisfied: certifi>=2017.4.17 in c:\\users\\admin\\anaconda3\\envs\\envlangchain\\lib\\site-packages (from requests->transformers) (2023.11.17)\n",
            "Downloading transformers-4.37.2-py3-none-any.whl (8.4 MB)\n",
            "   ---------------------------------------- 0.0/8.4 MB ? eta -:--:--\n",
            "    --------------------------------------- 0.2/8.4 MB 3.1 MB/s eta 0:00:03\n",
            "   - -------------------------------------- 0.4/8.4 MB 5.1 MB/s eta 0:00:02\n",
            "   --- ------------------------------------ 0.7/8.4 MB 5.3 MB/s eta 0:00:02\n",
            "   ----- ---------------------------------- 1.2/8.4 MB 6.7 MB/s eta 0:00:02\n",
            "   -------- ------------------------------- 1.7/8.4 MB 7.7 MB/s eta 0:00:01\n",
            "   ---------- ----------------------------- 2.2/8.4 MB 8.1 MB/s eta 0:00:01\n",
            "   ------------- -------------------------- 2.8/8.4 MB 8.9 MB/s eta 0:00:01\n",
            "   --------------- ------------------------ 3.2/8.4 MB 8.8 MB/s eta 0:00:01\n",
            "   ----------------- ---------------------- 3.6/8.4 MB 8.9 MB/s eta 0:00:01\n",
            "   ------------------- -------------------- 4.1/8.4 MB 8.9 MB/s eta 0:00:01\n",
            "   --------------------- ------------------ 4.5/8.4 MB 8.9 MB/s eta 0:00:01\n",
            "   ----------------------- ---------------- 5.0/8.4 MB 9.2 MB/s eta 0:00:01\n",
            "   --------------------------- ------------ 5.7/8.4 MB 9.6 MB/s eta 0:00:01\n",
            "   ----------------------------- ---------- 6.2/8.4 MB 9.7 MB/s eta 0:00:01\n",
            "   ------------------------------- -------- 6.5/8.4 MB 10.0 MB/s eta 0:00:01\n",
            "   --------------------------------- ------ 7.1/8.4 MB 9.7 MB/s eta 0:00:01\n",
            "   ------------------------------------ --- 7.8/8.4 MB 9.9 MB/s eta 0:00:01\n",
            "   ---------------------------------------  8.3/8.4 MB 10.0 MB/s eta 0:00:01\n",
            "   ---------------------------------------  8.4/8.4 MB 10.1 MB/s eta 0:00:01\n",
            "   ---------------------------------------- 8.4/8.4 MB 9.4 MB/s eta 0:00:00\n",
            "Downloading safetensors-0.4.2-cp39-none-win_amd64.whl (269 kB)\n",
            "   ---------------------------------------- 0.0/269.7 kB ? eta -:--:--\n",
            "   ---------------------------------------- 269.7/269.7 kB 8.4 MB/s eta 0:00:00\n",
            "Downloading tokenizers-0.15.1-cp39-none-win_amd64.whl (2.2 MB)\n",
            "   ---------------------------------------- 0.0/2.2 MB ? eta -:--:--\n",
            "   ------------ --------------------------- 0.7/2.2 MB 20.5 MB/s eta 0:00:01\n",
            "   ----------------------- ---------------- 1.3/2.2 MB 15.8 MB/s eta 0:00:01\n",
            "   ------------------------------- -------- 1.7/2.2 MB 13.8 MB/s eta 0:00:01\n",
            "   ------------------------------------- -- 2.0/2.2 MB 11.7 MB/s eta 0:00:01\n",
            "   ---------------------------------------  2.2/2.2 MB 10.6 MB/s eta 0:00:01\n",
            "   ---------------------------------------- 2.2/2.2 MB 9.2 MB/s eta 0:00:00\n",
            "Installing collected packages: safetensors, tokenizers, transformers\n",
            "Successfully installed safetensors-0.4.2 tokenizers-0.15.1 transformers-4.37.2\n"
          ]
        }
      ],
      "source": [
        "!pip install transformers"
      ]
    },
    {
      "cell_type": "code",
      "execution_count": null,
      "id": "00cfc4e1-bda2-4ece-ab2a-1a0d936b9770",
      "metadata": {
        "id": "00cfc4e1-bda2-4ece-ab2a-1a0d936b9770",
        "outputId": "4f54bc42-1a8c-4ed5-d95f-0d696cd0c76e"
      },
      "outputs": [
        {
          "name": "stdout",
          "output_type": "stream",
          "text": [
            "Collecting text_generation\n",
            "  Downloading text_generation-0.6.1-py3-none-any.whl.metadata (7.8 kB)\n",
            "Requirement already satisfied: aiohttp<4.0,>=3.8 in c:\\users\\admin\\anaconda3\\envs\\envlangchain\\lib\\site-packages (from text_generation) (3.9.3)\n",
            "Requirement already satisfied: huggingface-hub<1.0,>=0.12 in c:\\users\\admin\\anaconda3\\envs\\envlangchain\\lib\\site-packages (from text_generation) (0.20.3)\n",
            "Requirement already satisfied: pydantic<3,>1.10 in c:\\users\\admin\\anaconda3\\envs\\envlangchain\\lib\\site-packages (from text_generation) (2.6.0)\n",
            "Requirement already satisfied: aiosignal>=1.1.2 in c:\\users\\admin\\anaconda3\\envs\\envlangchain\\lib\\site-packages (from aiohttp<4.0,>=3.8->text_generation) (1.3.1)\n",
            "Requirement already satisfied: attrs>=17.3.0 in c:\\users\\admin\\anaconda3\\envs\\envlangchain\\lib\\site-packages (from aiohttp<4.0,>=3.8->text_generation) (23.2.0)\n",
            "Requirement already satisfied: frozenlist>=1.1.1 in c:\\users\\admin\\anaconda3\\envs\\envlangchain\\lib\\site-packages (from aiohttp<4.0,>=3.8->text_generation) (1.4.1)\n",
            "Requirement already satisfied: multidict<7.0,>=4.5 in c:\\users\\admin\\anaconda3\\envs\\envlangchain\\lib\\site-packages (from aiohttp<4.0,>=3.8->text_generation) (6.0.5)\n",
            "Requirement already satisfied: yarl<2.0,>=1.0 in c:\\users\\admin\\anaconda3\\envs\\envlangchain\\lib\\site-packages (from aiohttp<4.0,>=3.8->text_generation) (1.9.4)\n",
            "Requirement already satisfied: async-timeout<5.0,>=4.0 in c:\\users\\admin\\anaconda3\\envs\\envlangchain\\lib\\site-packages (from aiohttp<4.0,>=3.8->text_generation) (4.0.3)\n",
            "Requirement already satisfied: filelock in c:\\users\\admin\\anaconda3\\envs\\envlangchain\\lib\\site-packages (from huggingface-hub<1.0,>=0.12->text_generation) (3.13.1)\n",
            "Requirement already satisfied: fsspec>=2023.5.0 in c:\\users\\admin\\anaconda3\\envs\\envlangchain\\lib\\site-packages (from huggingface-hub<1.0,>=0.12->text_generation) (2023.12.2)\n",
            "Requirement already satisfied: requests in c:\\users\\admin\\anaconda3\\envs\\envlangchain\\lib\\site-packages (from huggingface-hub<1.0,>=0.12->text_generation) (2.31.0)\n",
            "Requirement already satisfied: tqdm>=4.42.1 in c:\\users\\admin\\anaconda3\\envs\\envlangchain\\lib\\site-packages (from huggingface-hub<1.0,>=0.12->text_generation) (4.66.1)\n",
            "Requirement already satisfied: pyyaml>=5.1 in c:\\users\\admin\\anaconda3\\envs\\envlangchain\\lib\\site-packages (from huggingface-hub<1.0,>=0.12->text_generation) (6.0.1)\n",
            "Requirement already satisfied: typing-extensions>=3.7.4.3 in c:\\users\\admin\\anaconda3\\envs\\envlangchain\\lib\\site-packages (from huggingface-hub<1.0,>=0.12->text_generation) (4.9.0)\n",
            "Requirement already satisfied: packaging>=20.9 in c:\\users\\admin\\anaconda3\\envs\\envlangchain\\lib\\site-packages (from huggingface-hub<1.0,>=0.12->text_generation) (23.2)\n",
            "Requirement already satisfied: annotated-types>=0.4.0 in c:\\users\\admin\\anaconda3\\envs\\envlangchain\\lib\\site-packages (from pydantic<3,>1.10->text_generation) (0.6.0)\n",
            "Requirement already satisfied: pydantic-core==2.16.1 in c:\\users\\admin\\anaconda3\\envs\\envlangchain\\lib\\site-packages (from pydantic<3,>1.10->text_generation) (2.16.1)\n",
            "Requirement already satisfied: colorama in c:\\users\\admin\\anaconda3\\envs\\envlangchain\\lib\\site-packages (from tqdm>=4.42.1->huggingface-hub<1.0,>=0.12->text_generation) (0.4.6)\n",
            "Requirement already satisfied: idna>=2.0 in c:\\users\\admin\\anaconda3\\envs\\envlangchain\\lib\\site-packages (from yarl<2.0,>=1.0->aiohttp<4.0,>=3.8->text_generation) (3.6)\n",
            "Requirement already satisfied: charset-normalizer<4,>=2 in c:\\users\\admin\\anaconda3\\envs\\envlangchain\\lib\\site-packages (from requests->huggingface-hub<1.0,>=0.12->text_generation) (3.3.2)\n",
            "Requirement already satisfied: urllib3<3,>=1.21.1 in c:\\users\\admin\\anaconda3\\envs\\envlangchain\\lib\\site-packages (from requests->huggingface-hub<1.0,>=0.12->text_generation) (2.2.0)\n",
            "Requirement already satisfied: certifi>=2017.4.17 in c:\\users\\admin\\anaconda3\\envs\\envlangchain\\lib\\site-packages (from requests->huggingface-hub<1.0,>=0.12->text_generation) (2023.11.17)\n",
            "Downloading text_generation-0.6.1-py3-none-any.whl (10 kB)\n",
            "Installing collected packages: text_generation\n",
            "Successfully installed text_generation-0.6.1\n"
          ]
        }
      ],
      "source": [
        "!pip install text_generation"
      ]
    },
    {
      "cell_type": "code",
      "execution_count": null,
      "id": "7c5bd75f-a5e7-414f-8935-dd483ce06955",
      "metadata": {
        "id": "7c5bd75f-a5e7-414f-8935-dd483ce06955",
        "outputId": "f131362f-e2ac-411c-ac62-d8b2f5b75643"
      },
      "outputs": [
        {
          "name": "stdout",
          "output_type": "stream",
          "text": [
            "Collecting accelerate\n",
            "  Downloading accelerate-0.26.1-py3-none-any.whl.metadata (18 kB)\n",
            "Requirement already satisfied: numpy>=1.17 in c:\\users\\admin\\anaconda3\\envs\\envlangchain\\lib\\site-packages (from accelerate) (1.26.3)\n",
            "Requirement already satisfied: packaging>=20.0 in c:\\users\\admin\\anaconda3\\envs\\envlangchain\\lib\\site-packages (from accelerate) (23.2)\n",
            "Requirement already satisfied: psutil in c:\\users\\admin\\anaconda3\\envs\\envlangchain\\lib\\site-packages (from accelerate) (5.9.8)\n",
            "Requirement already satisfied: pyyaml in c:\\users\\admin\\anaconda3\\envs\\envlangchain\\lib\\site-packages (from accelerate) (6.0.1)\n",
            "Collecting torch>=1.10.0 (from accelerate)\n",
            "  Downloading torch-2.2.0-cp39-cp39-win_amd64.whl.metadata (26 kB)\n",
            "Requirement already satisfied: huggingface-hub in c:\\users\\admin\\anaconda3\\envs\\envlangchain\\lib\\site-packages (from accelerate) (0.20.3)\n",
            "Requirement already satisfied: safetensors>=0.3.1 in c:\\users\\admin\\anaconda3\\envs\\envlangchain\\lib\\site-packages (from accelerate) (0.4.2)\n",
            "Requirement already satisfied: filelock in c:\\users\\admin\\anaconda3\\envs\\envlangchain\\lib\\site-packages (from torch>=1.10.0->accelerate) (3.13.1)\n",
            "Requirement already satisfied: typing-extensions>=4.8.0 in c:\\users\\admin\\anaconda3\\envs\\envlangchain\\lib\\site-packages (from torch>=1.10.0->accelerate) (4.9.0)\n",
            "Collecting sympy (from torch>=1.10.0->accelerate)\n",
            "  Downloading sympy-1.12-py3-none-any.whl (5.7 MB)\n",
            "     ---------------------------------------- 0.0/5.7 MB ? eta -:--:--\n",
            "     ---------------------------------------- 0.0/5.7 MB 991.0 kB/s eta 0:00:06\n",
            "     - -------------------------------------- 0.2/5.7 MB 2.6 MB/s eta 0:00:03\n",
            "     --- ------------------------------------ 0.5/5.7 MB 3.5 MB/s eta 0:00:02\n",
            "     ------ --------------------------------- 0.9/5.7 MB 5.4 MB/s eta 0:00:01\n",
            "     ---------- ----------------------------- 1.4/5.7 MB 6.5 MB/s eta 0:00:01\n",
            "     ------------ --------------------------- 1.9/5.7 MB 7.4 MB/s eta 0:00:01\n",
            "     --------------- ------------------------ 2.2/5.7 MB 7.0 MB/s eta 0:00:01\n",
            "     ------------------ --------------------- 2.6/5.7 MB 7.5 MB/s eta 0:00:01\n",
            "     -------------------- ------------------- 2.9/5.7 MB 7.8 MB/s eta 0:00:01\n",
            "     ---------------------- ----------------- 3.2/5.7 MB 7.3 MB/s eta 0:00:01\n",
            "     ------------------------- -------------- 3.7/5.7 MB 7.6 MB/s eta 0:00:01\n",
            "     ----------------------------- ---------- 4.2/5.7 MB 7.9 MB/s eta 0:00:01\n",
            "     ------------------------------- -------- 4.5/5.7 MB 8.0 MB/s eta 0:00:01\n",
            "     ------------------------------- -------- 4.6/5.7 MB 7.3 MB/s eta 0:00:01\n",
            "     ------------------------------------ --- 5.2/5.7 MB 7.7 MB/s eta 0:00:01\n",
            "     ---------------------------------------  5.7/5.7 MB 8.3 MB/s eta 0:00:01\n",
            "     ---------------------------------------  5.7/5.7 MB 8.3 MB/s eta 0:00:01\n",
            "     ---------------------------------------- 5.7/5.7 MB 7.3 MB/s eta 0:00:00\n",
            "Collecting networkx (from torch>=1.10.0->accelerate)\n",
            "  Downloading networkx-3.2.1-py3-none-any.whl.metadata (5.2 kB)\n",
            "Requirement already satisfied: jinja2 in c:\\users\\admin\\anaconda3\\envs\\envlangchain\\lib\\site-packages (from torch>=1.10.0->accelerate) (3.1.3)\n",
            "Requirement already satisfied: fsspec in c:\\users\\admin\\anaconda3\\envs\\envlangchain\\lib\\site-packages (from torch>=1.10.0->accelerate) (2023.12.2)\n",
            "Requirement already satisfied: requests in c:\\users\\admin\\anaconda3\\envs\\envlangchain\\lib\\site-packages (from huggingface-hub->accelerate) (2.31.0)\n",
            "Requirement already satisfied: tqdm>=4.42.1 in c:\\users\\admin\\anaconda3\\envs\\envlangchain\\lib\\site-packages (from huggingface-hub->accelerate) (4.66.1)\n",
            "Requirement already satisfied: colorama in c:\\users\\admin\\anaconda3\\envs\\envlangchain\\lib\\site-packages (from tqdm>=4.42.1->huggingface-hub->accelerate) (0.4.6)\n",
            "Requirement already satisfied: MarkupSafe>=2.0 in c:\\users\\admin\\anaconda3\\envs\\envlangchain\\lib\\site-packages (from jinja2->torch>=1.10.0->accelerate) (2.1.4)\n",
            "Requirement already satisfied: charset-normalizer<4,>=2 in c:\\users\\admin\\anaconda3\\envs\\envlangchain\\lib\\site-packages (from requests->huggingface-hub->accelerate) (3.3.2)\n",
            "Requirement already satisfied: idna<4,>=2.5 in c:\\users\\admin\\anaconda3\\envs\\envlangchain\\lib\\site-packages (from requests->huggingface-hub->accelerate) (3.6)\n",
            "Requirement already satisfied: urllib3<3,>=1.21.1 in c:\\users\\admin\\anaconda3\\envs\\envlangchain\\lib\\site-packages (from requests->huggingface-hub->accelerate) (2.2.0)\n",
            "Requirement already satisfied: certifi>=2017.4.17 in c:\\users\\admin\\anaconda3\\envs\\envlangchain\\lib\\site-packages (from requests->huggingface-hub->accelerate) (2023.11.17)\n",
            "Collecting mpmath>=0.19 (from sympy->torch>=1.10.0->accelerate)\n",
            "  Using cached mpmath-1.3.0-py3-none-any.whl (536 kB)\n",
            "Downloading accelerate-0.26.1-py3-none-any.whl (270 kB)\n",
            "   ---------------------------------------- 0.0/270.9 kB ? eta -:--:--\n",
            "   ---------------------------------------  266.2/270.9 kB 8.3 MB/s eta 0:00:01\n",
            "   ---------------------------------------- 270.9/270.9 kB 4.2 MB/s eta 0:00:00\n",
            "Downloading torch-2.2.0-cp39-cp39-win_amd64.whl (198.5 MB)\n",
            "   ---------------------------------------- 0.0/198.5 MB ? eta -:--:--\n",
            "   ---------------------------------------- 0.7/198.5 MB 15.7 MB/s eta 0:00:13\n",
            "   ---------------------------------------- 1.3/198.5 MB 13.8 MB/s eta 0:00:15\n",
            "   ---------------------------------------- 1.8/198.5 MB 12.4 MB/s eta 0:00:16\n",
            "   ---------------------------------------- 2.2/198.5 MB 11.5 MB/s eta 0:00:18\n",
            "    --------------------------------------- 2.7/198.5 MB 11.6 MB/s eta 0:00:17\n",
            "    --------------------------------------- 3.2/198.5 MB 12.0 MB/s eta 0:00:17\n",
            "    --------------------------------------- 3.8/198.5 MB 11.5 MB/s eta 0:00:17\n",
            "    --------------------------------------- 4.4/198.5 MB 11.7 MB/s eta 0:00:17\n",
            "    --------------------------------------- 5.0/198.5 MB 12.2 MB/s eta 0:00:16\n",
            "   - -------------------------------------- 5.6/198.5 MB 12.0 MB/s eta 0:00:17\n",
            "   - -------------------------------------- 6.2/198.5 MB 12.1 MB/s eta 0:00:16\n",
            "   - -------------------------------------- 6.7/198.5 MB 12.3 MB/s eta 0:00:16\n",
            "   - -------------------------------------- 7.3/198.5 MB 12.0 MB/s eta 0:00:16\n",
            "   - -------------------------------------- 7.9/198.5 MB 12.0 MB/s eta 0:00:16\n",
            "   - -------------------------------------- 8.5/198.5 MB 12.3 MB/s eta 0:00:16\n",
            "   - -------------------------------------- 8.8/198.5 MB 12.0 MB/s eta 0:00:16\n",
            "   - -------------------------------------- 9.4/198.5 MB 12.0 MB/s eta 0:00:16\n",
            "   -- ------------------------------------- 10.0/198.5 MB 12.0 MB/s eta 0:00:16\n",
            "   -- ------------------------------------- 10.2/198.5 MB 11.6 MB/s eta 0:00:17\n",
            "   -- ------------------------------------- 10.8/198.5 MB 11.7 MB/s eta 0:00:17\n",
            "   -- ------------------------------------- 11.2/198.5 MB 11.5 MB/s eta 0:00:17\n",
            "   -- ------------------------------------- 11.9/198.5 MB 11.7 MB/s eta 0:00:16\n",
            "   -- ------------------------------------- 12.4/198.5 MB 11.7 MB/s eta 0:00:16\n",
            "   -- ------------------------------------- 13.0/198.5 MB 11.7 MB/s eta 0:00:16\n",
            "   -- ------------------------------------- 13.4/198.5 MB 11.5 MB/s eta 0:00:17\n",
            "   -- ------------------------------------- 14.0/198.5 MB 11.7 MB/s eta 0:00:16\n",
            "   -- ------------------------------------- 14.6/198.5 MB 11.7 MB/s eta 0:00:16\n",
            "   --- ------------------------------------ 15.2/198.5 MB 11.7 MB/s eta 0:00:16\n",
            "   --- ------------------------------------ 15.4/198.5 MB 11.5 MB/s eta 0:00:16\n",
            "   --- ------------------------------------ 16.1/198.5 MB 11.3 MB/s eta 0:00:17\n",
            "   --- ------------------------------------ 16.7/198.5 MB 11.3 MB/s eta 0:00:17\n",
            "   --- ------------------------------------ 17.2/198.5 MB 11.3 MB/s eta 0:00:17\n",
            "   --- ------------------------------------ 17.6/198.5 MB 11.1 MB/s eta 0:00:17\n",
            "   --- ------------------------------------ 18.1/198.5 MB 11.1 MB/s eta 0:00:17\n",
            "   --- ------------------------------------ 18.8/198.5 MB 11.3 MB/s eta 0:00:16\n",
            "   --- ------------------------------------ 19.4/198.5 MB 11.5 MB/s eta 0:00:16\n",
            "   --- ------------------------------------ 19.8/198.5 MB 11.3 MB/s eta 0:00:16\n",
            "   ---- ----------------------------------- 20.4/198.5 MB 11.9 MB/s eta 0:00:15\n",
            "   ---- ----------------------------------- 20.9/198.5 MB 11.9 MB/s eta 0:00:15\n",
            "   ---- ----------------------------------- 21.5/198.5 MB 11.7 MB/s eta 0:00:16\n",
            "   ---- ----------------------------------- 22.4/198.5 MB 11.9 MB/s eta 0:00:15\n",
            "   ---- ----------------------------------- 23.1/198.5 MB 11.7 MB/s eta 0:00:16\n",
            "   ---- ----------------------------------- 23.6/198.5 MB 11.9 MB/s eta 0:00:15\n",
            "   ---- ----------------------------------- 24.3/198.5 MB 11.9 MB/s eta 0:00:15\n",
            "   ----- ---------------------------------- 24.8/198.5 MB 11.9 MB/s eta 0:00:15\n",
            "   ----- ---------------------------------- 25.3/198.5 MB 11.9 MB/s eta 0:00:15\n",
            "   ----- ---------------------------------- 25.8/198.5 MB 12.4 MB/s eta 0:00:14\n",
            "   ----- ---------------------------------- 25.9/198.5 MB 11.7 MB/s eta 0:00:15\n",
            "   ----- ---------------------------------- 26.2/198.5 MB 11.3 MB/s eta 0:00:16\n",
            "   ----- ---------------------------------- 26.6/198.5 MB 10.9 MB/s eta 0:00:16\n",
            "   ----- ---------------------------------- 26.9/198.5 MB 10.9 MB/s eta 0:00:16\n",
            "   ----- ---------------------------------- 27.2/198.5 MB 10.4 MB/s eta 0:00:17\n",
            "   ----- ---------------------------------- 27.8/198.5 MB 10.7 MB/s eta 0:00:16\n",
            "   ----- ---------------------------------- 28.7/198.5 MB 10.7 MB/s eta 0:00:16\n",
            "   ----- ---------------------------------- 29.2/198.5 MB 10.7 MB/s eta 0:00:16\n",
            "   ----- ---------------------------------- 29.4/198.5 MB 10.4 MB/s eta 0:00:17\n",
            "   ----- ---------------------------------- 29.6/198.5 MB 10.2 MB/s eta 0:00:17\n",
            "   ------ --------------------------------- 30.0/198.5 MB 10.1 MB/s eta 0:00:17\n",
            "   ------ --------------------------------- 30.5/198.5 MB 9.9 MB/s eta 0:00:17\n",
            "   ------ --------------------------------- 30.9/198.5 MB 9.9 MB/s eta 0:00:17\n",
            "   ------ --------------------------------- 31.6/198.5 MB 10.1 MB/s eta 0:00:17\n",
            "   ------ --------------------------------- 32.0/198.5 MB 9.9 MB/s eta 0:00:17\n",
            "   ------ --------------------------------- 32.3/198.5 MB 9.8 MB/s eta 0:00:17\n",
            "   ------ --------------------------------- 32.9/198.5 MB 9.6 MB/s eta 0:00:18\n",
            "   ------ --------------------------------- 33.8/198.5 MB 9.6 MB/s eta 0:00:18\n",
            "   ------ --------------------------------- 34.4/198.5 MB 9.6 MB/s eta 0:00:18\n",
            "   ------ --------------------------------- 34.7/198.5 MB 9.4 MB/s eta 0:00:18\n",
            "   ------- -------------------------------- 35.3/198.5 MB 9.4 MB/s eta 0:00:18\n",
            "   ------- -------------------------------- 36.1/198.5 MB 9.9 MB/s eta 0:00:17\n",
            "   ------- -------------------------------- 36.6/198.5 MB 10.2 MB/s eta 0:00:16\n",
            "   ------- -------------------------------- 37.2/198.5 MB 10.9 MB/s eta 0:00:15\n",
            "   ------- -------------------------------- 37.8/198.5 MB 10.7 MB/s eta 0:00:15\n",
            "   ------- -------------------------------- 38.5/198.5 MB 10.9 MB/s eta 0:00:15\n",
            "   ------- -------------------------------- 38.5/198.5 MB 10.7 MB/s eta 0:00:15\n",
            "   ------- -------------------------------- 38.5/198.5 MB 10.7 MB/s eta 0:00:15\n",
            "   ------- -------------------------------- 38.9/198.5 MB 9.8 MB/s eta 0:00:17\n",
            "   -------- ------------------------------- 39.9/198.5 MB 10.7 MB/s eta 0:00:15\n",
            "   -------- ------------------------------- 41.2/198.5 MB 11.9 MB/s eta 0:00:14\n",
            "   -------- ------------------------------- 41.5/198.5 MB 11.9 MB/s eta 0:00:14\n",
            "   -------- ------------------------------- 41.9/198.5 MB 11.3 MB/s eta 0:00:14\n",
            "   -------- ------------------------------- 42.4/198.5 MB 11.7 MB/s eta 0:00:14\n",
            "   -------- ------------------------------- 43.0/198.5 MB 11.7 MB/s eta 0:00:14\n",
            "   -------- ------------------------------- 43.4/198.5 MB 11.7 MB/s eta 0:00:14\n",
            "   -------- ------------------------------- 44.0/198.5 MB 11.5 MB/s eta 0:00:14\n",
            "   -------- ------------------------------- 44.5/198.5 MB 11.5 MB/s eta 0:00:14\n",
            "   --------- ------------------------------ 45.2/198.5 MB 11.9 MB/s eta 0:00:13\n",
            "   --------- ------------------------------ 45.6/198.5 MB 12.1 MB/s eta 0:00:13\n",
            "   --------- ------------------------------ 46.0/198.5 MB 11.5 MB/s eta 0:00:14\n",
            "   --------- ------------------------------ 46.7/198.5 MB 11.7 MB/s eta 0:00:13\n",
            "   --------- ------------------------------ 47.1/198.5 MB 11.5 MB/s eta 0:00:14\n",
            "   --------- ------------------------------ 47.6/198.5 MB 11.3 MB/s eta 0:00:14\n",
            "   --------- ------------------------------ 48.0/198.5 MB 11.1 MB/s eta 0:00:14\n",
            "   --------- ------------------------------ 48.7/198.5 MB 11.1 MB/s eta 0:00:14\n",
            "   --------- ------------------------------ 49.3/198.5 MB 12.4 MB/s eta 0:00:13\n",
            "   --------- ------------------------------ 49.6/198.5 MB 12.4 MB/s eta 0:00:13\n",
            "   ---------- ----------------------------- 50.2/198.5 MB 11.9 MB/s eta 0:00:13\n",
            "   ---------- ----------------------------- 50.8/198.5 MB 11.5 MB/s eta 0:00:13\n",
            "   ---------- ----------------------------- 51.3/198.5 MB 11.1 MB/s eta 0:00:14\n",
            "   ---------- ----------------------------- 51.7/198.5 MB 10.9 MB/s eta 0:00:14\n",
            "   ---------- ----------------------------- 52.4/198.5 MB 11.7 MB/s eta 0:00:13\n",
            "   ---------- ----------------------------- 52.9/198.5 MB 11.5 MB/s eta 0:00:13\n",
            "   ---------- ----------------------------- 53.3/198.5 MB 11.1 MB/s eta 0:00:14\n",
            "   ---------- ----------------------------- 53.8/198.5 MB 11.3 MB/s eta 0:00:13\n",
            "   ---------- ----------------------------- 54.2/198.5 MB 11.5 MB/s eta 0:00:13\n",
            "   ----------- ---------------------------- 54.9/198.5 MB 11.3 MB/s eta 0:00:13\n",
            "   ----------- ---------------------------- 55.1/198.5 MB 11.1 MB/s eta 0:00:13\n",
            "   ----------- ---------------------------- 55.6/198.5 MB 10.7 MB/s eta 0:00:14\n",
            "   ----------- ---------------------------- 56.2/198.5 MB 11.1 MB/s eta 0:00:13\n",
            "   ----------- ---------------------------- 56.9/198.5 MB 11.1 MB/s eta 0:00:13\n",
            "   ----------- ---------------------------- 57.3/198.5 MB 10.9 MB/s eta 0:00:13\n",
            "   ----------- ---------------------------- 57.9/198.5 MB 11.3 MB/s eta 0:00:13\n",
            "   ----------- ---------------------------- 58.5/198.5 MB 11.5 MB/s eta 0:00:13\n",
            "   ----------- ---------------------------- 59.0/198.5 MB 11.3 MB/s eta 0:00:13\n",
            "   ----------- ---------------------------- 59.4/198.5 MB 11.1 MB/s eta 0:00:13\n",
            "   ------------ --------------------------- 59.9/198.5 MB 11.3 MB/s eta 0:00:13\n",
            "   ------------ --------------------------- 60.6/198.5 MB 11.3 MB/s eta 0:00:13\n",
            "   ------------ --------------------------- 60.9/198.5 MB 10.9 MB/s eta 0:00:13\n",
            "   ------------ --------------------------- 61.4/198.5 MB 10.9 MB/s eta 0:00:13\n",
            "   ------------ --------------------------- 62.0/198.5 MB 11.1 MB/s eta 0:00:13\n",
            "   ------------ --------------------------- 62.2/198.5 MB 10.7 MB/s eta 0:00:13\n",
            "   ------------ --------------------------- 62.2/198.5 MB 10.7 MB/s eta 0:00:13\n",
            "   ------------ --------------------------- 62.2/198.5 MB 9.8 MB/s eta 0:00:14\n",
            "   ------------ --------------------------- 63.2/198.5 MB 10.1 MB/s eta 0:00:14\n",
            "   ------------ --------------------------- 63.5/198.5 MB 9.8 MB/s eta 0:00:14\n",
            "   ------------ --------------------------- 63.9/198.5 MB 9.9 MB/s eta 0:00:14\n",
            "   ------------- -------------------------- 64.5/198.5 MB 10.1 MB/s eta 0:00:14\n",
            "   ------------- -------------------------- 64.8/198.5 MB 9.8 MB/s eta 0:00:14\n",
            "   ------------- -------------------------- 65.3/198.5 MB 9.9 MB/s eta 0:00:14\n",
            "   ------------- -------------------------- 65.8/198.5 MB 9.9 MB/s eta 0:00:14\n",
            "   ------------- -------------------------- 66.3/198.5 MB 9.9 MB/s eta 0:00:14\n",
            "   ------------- -------------------------- 67.1/198.5 MB 9.9 MB/s eta 0:00:14\n",
            "   ------------- -------------------------- 67.5/198.5 MB 9.9 MB/s eta 0:00:14\n",
            "   ------------- -------------------------- 68.1/198.5 MB 9.8 MB/s eta 0:00:14\n",
            "   ------------- -------------------------- 68.4/198.5 MB 9.8 MB/s eta 0:00:14\n",
            "   ------------- -------------------------- 68.9/198.5 MB 9.5 MB/s eta 0:00:14\n",
            "   ------------- -------------------------- 69.3/198.5 MB 9.6 MB/s eta 0:00:14\n",
            "   -------------- ------------------------- 70.1/198.5 MB 9.6 MB/s eta 0:00:14\n",
            "   -------------- ------------------------- 70.6/198.5 MB 9.6 MB/s eta 0:00:14\n",
            "   -------------- ------------------------- 71.2/198.5 MB 9.8 MB/s eta 0:00:14\n",
            "   -------------- ------------------------- 71.8/198.5 MB 9.8 MB/s eta 0:00:13\n",
            "   -------------- ------------------------- 72.4/198.5 MB 9.8 MB/s eta 0:00:13\n",
            "   -------------- ------------------------- 72.9/198.5 MB 10.9 MB/s eta 0:00:12\n",
            "   -------------- ------------------------- 73.2/198.5 MB 10.7 MB/s eta 0:00:12\n",
            "   -------------- ------------------------- 73.6/198.5 MB 10.4 MB/s eta 0:00:13\n",
            "   -------------- ------------------------- 74.2/198.5 MB 10.6 MB/s eta 0:00:12\n",
            "   --------------- ------------------------ 74.6/198.5 MB 10.4 MB/s eta 0:00:12\n",
            "   --------------- ------------------------ 75.3/198.5 MB 10.7 MB/s eta 0:00:12\n",
            "   --------------- ------------------------ 75.8/198.5 MB 10.7 MB/s eta 0:00:12\n",
            "   --------------- ------------------------ 76.3/198.5 MB 10.9 MB/s eta 0:00:12\n",
            "   --------------- ------------------------ 76.9/198.5 MB 10.7 MB/s eta 0:00:12\n",
            "   --------------- ------------------------ 77.4/198.5 MB 10.9 MB/s eta 0:00:12\n",
            "   --------------- ------------------------ 77.8/198.5 MB 10.9 MB/s eta 0:00:12\n",
            "   --------------- ------------------------ 78.2/198.5 MB 10.7 MB/s eta 0:00:12\n",
            "   --------------- ------------------------ 78.8/198.5 MB 10.9 MB/s eta 0:00:11\n",
            "   --------------- ------------------------ 79.3/198.5 MB 10.7 MB/s eta 0:00:12\n",
            "   ---------------- ----------------------- 79.8/198.5 MB 10.9 MB/s eta 0:00:11\n",
            "   ---------------- ----------------------- 80.3/198.5 MB 10.9 MB/s eta 0:00:11\n",
            "   ---------------- ----------------------- 80.7/198.5 MB 10.7 MB/s eta 0:00:11\n",
            "   ---------------- ----------------------- 81.3/198.5 MB 10.9 MB/s eta 0:00:11\n",
            "   ---------------- ----------------------- 81.8/198.5 MB 10.9 MB/s eta 0:00:11\n",
            "   ---------------- ----------------------- 82.5/198.5 MB 10.9 MB/s eta 0:00:11\n",
            "   ---------------- ----------------------- 82.6/198.5 MB 10.7 MB/s eta 0:00:11\n",
            "   ---------------- ----------------------- 83.2/198.5 MB 10.7 MB/s eta 0:00:11\n",
            "   ---------------- ----------------------- 83.7/198.5 MB 11.1 MB/s eta 0:00:11\n",
            "   ---------------- ----------------------- 84.3/198.5 MB 11.1 MB/s eta 0:00:11\n",
            "   ----------------- ---------------------- 84.5/198.5 MB 10.7 MB/s eta 0:00:11\n",
            "   ----------------- ---------------------- 84.9/198.5 MB 10.7 MB/s eta 0:00:11\n",
            "   ----------------- ---------------------- 85.5/198.5 MB 10.6 MB/s eta 0:00:11\n",
            "   ----------------- ---------------------- 85.9/198.5 MB 10.7 MB/s eta 0:00:11\n",
            "   ----------------- ---------------------- 86.7/198.5 MB 10.7 MB/s eta 0:00:11\n",
            "   ----------------- ---------------------- 86.8/198.5 MB 10.4 MB/s eta 0:00:11\n",
            "   ----------------- ---------------------- 87.5/198.5 MB 10.6 MB/s eta 0:00:11\n",
            "   ----------------- ---------------------- 88.1/198.5 MB 10.4 MB/s eta 0:00:11\n",
            "   ----------------- ---------------------- 88.6/198.5 MB 10.7 MB/s eta 0:00:11\n",
            "   ----------------- ---------------------- 89.2/198.5 MB 10.6 MB/s eta 0:00:11\n",
            "   ------------------ --------------------- 89.9/198.5 MB 10.7 MB/s eta 0:00:11\n",
            "   ------------------ --------------------- 90.5/198.5 MB 10.9 MB/s eta 0:00:10\n",
            "   ------------------ --------------------- 91.1/198.5 MB 11.1 MB/s eta 0:00:10\n",
            "   ------------------ --------------------- 91.7/198.5 MB 11.3 MB/s eta 0:00:10\n",
            "   ------------------ --------------------- 92.3/198.5 MB 11.3 MB/s eta 0:00:10\n",
            "   ------------------ --------------------- 93.0/198.5 MB 11.7 MB/s eta 0:00:10\n",
            "   ------------------ --------------------- 93.4/198.5 MB 11.5 MB/s eta 0:00:10\n",
            "   ------------------ --------------------- 93.9/198.5 MB 11.5 MB/s eta 0:00:10\n",
            "   ------------------- -------------------- 94.4/198.5 MB 11.3 MB/s eta 0:00:10\n",
            "   ------------------- -------------------- 95.0/198.5 MB 11.9 MB/s eta 0:00:09\n",
            "   ------------------- -------------------- 95.6/198.5 MB 12.1 MB/s eta 0:00:09\n",
            "   ------------------- -------------------- 96.0/198.5 MB 11.9 MB/s eta 0:00:09\n",
            "   ------------------- -------------------- 96.5/198.5 MB 11.9 MB/s eta 0:00:09\n",
            "   ------------------- -------------------- 97.0/198.5 MB 12.4 MB/s eta 0:00:09\n",
            "   ------------------- -------------------- 97.7/198.5 MB 12.3 MB/s eta 0:00:09\n",
            "   ------------------- -------------------- 98.3/198.5 MB 12.6 MB/s eta 0:00:08\n",
            "   ------------------- -------------------- 98.8/198.5 MB 12.6 MB/s eta 0:00:08\n",
            "   ------------------- -------------------- 99.2/198.5 MB 11.9 MB/s eta 0:00:09\n",
            "   -------------------- ------------------- 99.8/198.5 MB 12.1 MB/s eta 0:00:09\n",
            "   ------------------- ------------------- 100.2/198.5 MB 11.9 MB/s eta 0:00:09\n",
            "   ------------------- ------------------- 100.9/198.5 MB 11.9 MB/s eta 0:00:09\n",
            "   ------------------- ------------------- 101.4/198.5 MB 11.7 MB/s eta 0:00:09\n",
            "   -------------------- ------------------ 101.9/198.5 MB 11.7 MB/s eta 0:00:09\n",
            "   -------------------- ------------------ 102.4/198.5 MB 11.5 MB/s eta 0:00:09\n",
            "   -------------------- ------------------ 103.4/198.5 MB 11.7 MB/s eta 0:00:09\n",
            "   -------------------- ------------------ 103.8/198.5 MB 11.9 MB/s eta 0:00:08\n",
            "   -------------------- ------------------ 104.1/198.5 MB 11.5 MB/s eta 0:00:09\n",
            "   -------------------- ------------------ 104.6/198.5 MB 11.5 MB/s eta 0:00:09\n",
            "   -------------------- ------------------ 105.2/198.5 MB 11.5 MB/s eta 0:00:09\n",
            "   -------------------- ------------------ 105.7/198.5 MB 11.3 MB/s eta 0:00:09\n",
            "   -------------------- ------------------ 106.1/198.5 MB 11.1 MB/s eta 0:00:09\n",
            "   -------------------- ------------------ 106.7/198.5 MB 11.5 MB/s eta 0:00:08\n",
            "   --------------------- ----------------- 107.1/198.5 MB 11.1 MB/s eta 0:00:09\n",
            "   --------------------- ----------------- 107.8/198.5 MB 11.3 MB/s eta 0:00:09\n",
            "   --------------------- ----------------- 108.3/198.5 MB 11.1 MB/s eta 0:00:09\n",
            "   --------------------- ----------------- 109.0/198.5 MB 11.1 MB/s eta 0:00:09\n",
            "   --------------------- ----------------- 109.6/198.5 MB 11.5 MB/s eta 0:00:08\n",
            "   --------------------- ----------------- 110.2/198.5 MB 11.5 MB/s eta 0:00:08\n",
            "   --------------------- ----------------- 110.7/198.5 MB 11.7 MB/s eta 0:00:08\n",
            "   --------------------- ----------------- 111.2/198.5 MB 11.5 MB/s eta 0:00:08\n",
            "   --------------------- ----------------- 111.8/198.5 MB 11.7 MB/s eta 0:00:08\n",
            "   ---------------------- ---------------- 112.2/198.5 MB 11.5 MB/s eta 0:00:08\n",
            "   ---------------------- ---------------- 113.0/198.5 MB 11.7 MB/s eta 0:00:08\n",
            "   ---------------------- ---------------- 113.5/198.5 MB 11.5 MB/s eta 0:00:08\n",
            "   ---------------------- ---------------- 114.1/198.5 MB 11.7 MB/s eta 0:00:08\n",
            "   ---------------------- ---------------- 114.4/198.5 MB 11.7 MB/s eta 0:00:08\n",
            "   ---------------------- ---------------- 115.0/198.5 MB 11.7 MB/s eta 0:00:08\n",
            "   ---------------------- ---------------- 115.5/198.5 MB 11.5 MB/s eta 0:00:08\n",
            "   ---------------------- ---------------- 116.0/198.5 MB 11.9 MB/s eta 0:00:07\n",
            "   ---------------------- ---------------- 116.4/198.5 MB 11.7 MB/s eta 0:00:08\n",
            "   ---------------------- ---------------- 117.0/198.5 MB 11.5 MB/s eta 0:00:08\n",
            "   ----------------------- --------------- 117.5/198.5 MB 11.7 MB/s eta 0:00:07\n",
            "   ----------------------- --------------- 117.9/198.5 MB 11.7 MB/s eta 0:00:07\n",
            "   ----------------------- --------------- 118.5/198.5 MB 11.3 MB/s eta 0:00:08\n",
            "   ----------------------- --------------- 119.0/198.5 MB 11.3 MB/s eta 0:00:08\n",
            "   ----------------------- --------------- 119.7/198.5 MB 11.3 MB/s eta 0:00:07\n",
            "   ----------------------- --------------- 119.9/198.5 MB 10.9 MB/s eta 0:00:08\n",
            "   ----------------------- --------------- 120.4/198.5 MB 10.7 MB/s eta 0:00:08\n",
            "   ----------------------- --------------- 120.5/198.5 MB 10.4 MB/s eta 0:00:08\n",
            "   ----------------------- --------------- 121.2/198.5 MB 10.7 MB/s eta 0:00:08\n",
            "   ----------------------- --------------- 121.9/198.5 MB 10.6 MB/s eta 0:00:08\n",
            "   ------------------------ -------------- 122.6/198.5 MB 10.7 MB/s eta 0:00:08\n",
            "   ------------------------ -------------- 123.0/198.5 MB 10.6 MB/s eta 0:00:08\n",
            "   ------------------------ -------------- 123.3/198.5 MB 10.6 MB/s eta 0:00:08\n",
            "   ------------------------ -------------- 123.7/198.5 MB 10.4 MB/s eta 0:00:08\n",
            "   ------------------------ -------------- 124.2/198.5 MB 10.1 MB/s eta 0:00:08\n",
            "   ------------------------ -------------- 124.8/198.5 MB 10.4 MB/s eta 0:00:08\n",
            "   ------------------------ -------------- 125.0/198.5 MB 10.1 MB/s eta 0:00:08\n",
            "   ------------------------ -------------- 125.5/198.5 MB 10.2 MB/s eta 0:00:08\n",
            "   ------------------------ -------------- 126.0/198.5 MB 10.1 MB/s eta 0:00:08\n",
            "   ------------------------ -------------- 126.5/198.5 MB 10.1 MB/s eta 0:00:08\n",
            "   ------------------------ -------------- 127.0/198.5 MB 10.1 MB/s eta 0:00:08\n",
            "   ------------------------- ------------- 127.3/198.5 MB 10.2 MB/s eta 0:00:07\n",
            "   ------------------------- -------------- 127.8/198.5 MB 9.9 MB/s eta 0:00:08\n",
            "   ------------------------- ------------- 128.4/198.5 MB 10.2 MB/s eta 0:00:07\n",
            "   ------------------------- ------------- 128.9/198.5 MB 10.2 MB/s eta 0:00:07\n",
            "   ------------------------- ------------- 129.3/198.5 MB 10.1 MB/s eta 0:00:07\n",
            "   ------------------------- ------------- 130.0/198.5 MB 10.1 MB/s eta 0:00:07\n",
            "   ------------------------- ------------- 130.4/198.5 MB 10.2 MB/s eta 0:00:07\n",
            "   ------------------------- ------------- 130.8/198.5 MB 10.6 MB/s eta 0:00:07\n",
            "   ------------------------- ------------- 131.3/198.5 MB 10.4 MB/s eta 0:00:07\n",
            "   ------------------------- ------------- 132.0/198.5 MB 10.6 MB/s eta 0:00:07\n",
            "   -------------------------- ------------ 132.4/198.5 MB 10.4 MB/s eta 0:00:07\n",
            "   -------------------------- ------------ 132.9/198.5 MB 10.4 MB/s eta 0:00:07\n",
            "   -------------------------- ------------ 133.6/198.5 MB 10.9 MB/s eta 0:00:06\n",
            "   -------------------------- ------------ 134.0/198.5 MB 10.9 MB/s eta 0:00:06\n",
            "   -------------------------- ------------ 134.6/198.5 MB 10.9 MB/s eta 0:00:06\n",
            "   -------------------------- ------------ 135.1/198.5 MB 11.1 MB/s eta 0:00:06\n",
            "   -------------------------- ------------ 135.8/198.5 MB 11.3 MB/s eta 0:00:06\n",
            "   -------------------------- ------------ 136.2/198.5 MB 11.3 MB/s eta 0:00:06\n",
            "   -------------------------- ------------ 136.6/198.5 MB 11.1 MB/s eta 0:00:06\n",
            "   -------------------------- ------------ 137.1/198.5 MB 11.1 MB/s eta 0:00:06\n",
            "   --------------------------- ----------- 137.7/198.5 MB 11.5 MB/s eta 0:00:06\n",
            "   --------------------------- ----------- 138.0/198.5 MB 11.5 MB/s eta 0:00:06\n",
            "   --------------------------- ----------- 138.4/198.5 MB 11.1 MB/s eta 0:00:06\n",
            "   --------------------------- ----------- 139.0/198.5 MB 11.1 MB/s eta 0:00:06\n",
            "   --------------------------- ----------- 139.6/198.5 MB 11.3 MB/s eta 0:00:06\n",
            "   --------------------------- ----------- 139.7/198.5 MB 10.9 MB/s eta 0:00:06\n",
            "   --------------------------- ----------- 140.0/198.5 MB 10.6 MB/s eta 0:00:06\n",
            "   --------------------------- ----------- 140.5/198.5 MB 10.6 MB/s eta 0:00:06\n",
            "   --------------------------- ----------- 140.9/198.5 MB 10.6 MB/s eta 0:00:06\n",
            "   --------------------------- ----------- 141.3/198.5 MB 10.6 MB/s eta 0:00:06\n",
            "   --------------------------- ----------- 141.6/198.5 MB 10.4 MB/s eta 0:00:06\n",
            "   ---------------------------- ----------- 141.9/198.5 MB 9.9 MB/s eta 0:00:06\n",
            "   ---------------------------- ----------- 142.2/198.5 MB 9.6 MB/s eta 0:00:06\n",
            "   ---------------------------- ----------- 142.6/198.5 MB 9.6 MB/s eta 0:00:06\n",
            "   ---------------------------- ----------- 143.1/198.5 MB 9.8 MB/s eta 0:00:06\n",
            "   ---------------------------- ----------- 143.4/198.5 MB 9.4 MB/s eta 0:00:06\n",
            "   ----------------------------- ---------- 143.9/198.5 MB 9.5 MB/s eta 0:00:06\n",
            "   ----------------------------- ---------- 144.3/198.5 MB 9.2 MB/s eta 0:00:06\n",
            "   ----------------------------- ---------- 144.7/198.5 MB 9.0 MB/s eta 0:00:06\n",
            "   ----------------------------- ---------- 145.1/198.5 MB 9.0 MB/s eta 0:00:06\n",
            "   ----------------------------- ---------- 145.5/198.5 MB 9.0 MB/s eta 0:00:06\n",
            "   ----------------------------- ---------- 145.5/198.5 MB 9.0 MB/s eta 0:00:06\n",
            "   ----------------------------- ---------- 145.6/198.5 MB 8.2 MB/s eta 0:00:07\n",
            "   ----------------------------- ---------- 146.1/198.5 MB 8.2 MB/s eta 0:00:07\n",
            "   ----------------------------- ---------- 146.6/198.5 MB 8.3 MB/s eta 0:00:07\n",
            "   ----------------------------- ---------- 147.0/198.5 MB 8.2 MB/s eta 0:00:07\n",
            "   ----------------------------- ---------- 147.6/198.5 MB 8.2 MB/s eta 0:00:07\n",
            "   ----------------------------- ---------- 148.2/198.5 MB 8.2 MB/s eta 0:00:07\n",
            "   ----------------------------- ---------- 148.7/198.5 MB 8.5 MB/s eta 0:00:06\n",
            "   ------------------------------ --------- 149.4/198.5 MB 8.4 MB/s eta 0:00:06\n",
            "   ------------------------------ --------- 149.5/198.5 MB 8.2 MB/s eta 0:00:06\n",
            "   ------------------------------ --------- 150.2/198.5 MB 8.7 MB/s eta 0:00:06\n",
            "   ------------------------------ --------- 150.7/198.5 MB 8.8 MB/s eta 0:00:06\n",
            "   ------------------------------ --------- 151.3/198.5 MB 8.7 MB/s eta 0:00:06\n",
            "   ------------------------------ --------- 151.9/198.5 MB 9.2 MB/s eta 0:00:06\n",
            "   ------------------------------ --------- 152.5/198.5 MB 9.4 MB/s eta 0:00:05\n",
            "   ------------------------------ --------- 152.8/198.5 MB 9.4 MB/s eta 0:00:05\n",
            "   ------------------------------ --------- 153.4/198.5 MB 9.5 MB/s eta 0:00:05\n",
            "   ------------------------------- -------- 154.1/198.5 MB 9.6 MB/s eta 0:00:05\n",
            "   ------------------------------ -------- 154.5/198.5 MB 10.2 MB/s eta 0:00:05\n",
            "   ------------------------------ -------- 155.2/198.5 MB 10.4 MB/s eta 0:00:05\n",
            "   ------------------------------ -------- 155.7/198.5 MB 10.2 MB/s eta 0:00:05\n",
            "   ------------------------------ -------- 156.3/198.5 MB 11.5 MB/s eta 0:00:04\n",
            "   ------------------------------ -------- 156.4/198.5 MB 11.1 MB/s eta 0:00:04\n",
            "   ------------------------------ -------- 156.9/198.5 MB 11.3 MB/s eta 0:00:04\n",
            "   ------------------------------ -------- 157.5/198.5 MB 11.3 MB/s eta 0:00:04\n",
            "   ------------------------------- ------- 158.2/198.5 MB 11.5 MB/s eta 0:00:04\n",
            "   ------------------------------- ------- 158.5/198.5 MB 11.3 MB/s eta 0:00:04\n",
            "   ------------------------------- ------- 159.0/198.5 MB 11.1 MB/s eta 0:00:04\n",
            "   ------------------------------- ------- 159.8/198.5 MB 11.5 MB/s eta 0:00:04\n",
            "   ------------------------------- ------- 160.4/198.5 MB 11.5 MB/s eta 0:00:04\n",
            "   ------------------------------- ------- 160.5/198.5 MB 10.9 MB/s eta 0:00:04\n",
            "   ------------------------------- ------- 161.1/198.5 MB 10.9 MB/s eta 0:00:04\n",
            "   ------------------------------- ------- 161.6/198.5 MB 11.1 MB/s eta 0:00:04\n",
            "   ------------------------------- ------- 162.1/198.5 MB 11.1 MB/s eta 0:00:04\n",
            "   ------------------------------- ------- 162.6/198.5 MB 10.9 MB/s eta 0:00:04\n",
            "   -------------------------------- ------ 163.2/198.5 MB 11.1 MB/s eta 0:00:04\n",
            "   -------------------------------- ------ 163.8/198.5 MB 11.1 MB/s eta 0:00:04\n",
            "   -------------------------------- ------ 164.1/198.5 MB 10.7 MB/s eta 0:00:04\n",
            "   -------------------------------- ------ 164.8/198.5 MB 10.9 MB/s eta 0:00:04\n",
            "   -------------------------------- ------ 165.3/198.5 MB 10.7 MB/s eta 0:00:04\n",
            "   -------------------------------- ------ 165.8/198.5 MB 10.7 MB/s eta 0:00:04\n",
            "   -------------------------------- ------ 166.4/198.5 MB 10.7 MB/s eta 0:00:03\n",
            "   -------------------------------- ------ 166.9/198.5 MB 11.3 MB/s eta 0:00:03\n",
            "   -------------------------------- ------ 167.4/198.5 MB 11.3 MB/s eta 0:00:03\n",
            "   -------------------------------- ------ 167.8/198.5 MB 11.1 MB/s eta 0:00:03\n",
            "   --------------------------------- ----- 168.4/198.5 MB 10.9 MB/s eta 0:00:03\n",
            "   --------------------------------- ----- 168.8/198.5 MB 11.1 MB/s eta 0:00:03\n",
            "   --------------------------------- ----- 169.4/198.5 MB 11.3 MB/s eta 0:00:03\n",
            "   --------------------------------- ----- 169.7/198.5 MB 10.7 MB/s eta 0:00:03\n",
            "   --------------------------------- ----- 170.3/198.5 MB 10.7 MB/s eta 0:00:03\n",
            "   --------------------------------- ----- 170.8/198.5 MB 11.1 MB/s eta 0:00:03\n",
            "   --------------------------------- ----- 171.4/198.5 MB 11.1 MB/s eta 0:00:03\n",
            "   --------------------------------- ----- 172.0/198.5 MB 11.1 MB/s eta 0:00:03\n",
            "   --------------------------------- ----- 172.2/198.5 MB 10.7 MB/s eta 0:00:03\n",
            "   --------------------------------- ----- 172.8/198.5 MB 10.7 MB/s eta 0:00:03\n",
            "   ---------------------------------- ---- 173.3/198.5 MB 10.7 MB/s eta 0:00:03\n",
            "   ---------------------------------- ---- 173.9/198.5 MB 10.7 MB/s eta 0:00:03\n",
            "   ---------------------------------- ---- 174.1/198.5 MB 10.6 MB/s eta 0:00:03\n",
            "   ---------------------------------- ---- 174.7/198.5 MB 10.9 MB/s eta 0:00:03\n",
            "   ---------------------------------- ---- 175.0/198.5 MB 10.6 MB/s eta 0:00:03\n",
            "   ---------------------------------- ---- 175.5/198.5 MB 10.6 MB/s eta 0:00:03\n",
            "   ---------------------------------- ---- 176.1/198.5 MB 10.6 MB/s eta 0:00:03\n",
            "   ---------------------------------- ---- 176.3/198.5 MB 10.2 MB/s eta 0:00:03\n",
            "   ---------------------------------- ---- 177.0/198.5 MB 10.4 MB/s eta 0:00:03\n",
            "   ---------------------------------- ---- 177.3/198.5 MB 10.2 MB/s eta 0:00:03\n",
            "   ---------------------------------- ---- 178.0/198.5 MB 10.4 MB/s eta 0:00:02\n",
            "   ----------------------------------- --- 178.4/198.5 MB 10.2 MB/s eta 0:00:02\n",
            "   ----------------------------------- --- 178.9/198.5 MB 10.2 MB/s eta 0:00:02\n",
            "   ----------------------------------- --- 179.4/198.5 MB 10.4 MB/s eta 0:00:02\n",
            "   ----------------------------------- --- 179.6/198.5 MB 10.2 MB/s eta 0:00:02\n",
            "   ----------------------------------- --- 179.6/198.5 MB 10.2 MB/s eta 0:00:02\n",
            "   ----------------------------------- --- 179.6/198.5 MB 10.2 MB/s eta 0:00:02\n",
            "   ----------------------------------- --- 181.2/198.5 MB 10.4 MB/s eta 0:00:02\n",
            "   ----------------------------------- --- 181.4/198.5 MB 10.1 MB/s eta 0:00:02\n",
            "   ------------------------------------ --- 181.7/198.5 MB 9.9 MB/s eta 0:00:02\n",
            "   ------------------------------------ --- 182.2/198.5 MB 9.8 MB/s eta 0:00:02\n",
            "   ------------------------------------ --- 182.7/198.5 MB 9.9 MB/s eta 0:00:02\n",
            "   ------------------------------------ --- 182.8/198.5 MB 9.6 MB/s eta 0:00:02\n",
            "   ------------------------------------ --- 183.5/198.5 MB 9.8 MB/s eta 0:00:02\n",
            "   ------------------------------------- -- 184.0/198.5 MB 9.6 MB/s eta 0:00:02\n",
            "   ------------------------------------- -- 184.6/198.5 MB 9.9 MB/s eta 0:00:02\n",
            "   ------------------------------------- -- 185.1/198.5 MB 9.8 MB/s eta 0:00:02\n",
            "   ------------------------------------- -- 185.7/198.5 MB 9.9 MB/s eta 0:00:02\n",
            "   ------------------------------------- -- 185.8/198.5 MB 9.6 MB/s eta 0:00:02\n",
            "   ------------------------------------- -- 186.6/198.5 MB 9.8 MB/s eta 0:00:02\n",
            "   ------------------------------------- -- 187.1/198.5 MB 9.6 MB/s eta 0:00:02\n",
            "   ------------------------------------- -- 187.6/198.5 MB 9.8 MB/s eta 0:00:02\n",
            "   ------------------------------------- -- 188.1/198.5 MB 9.8 MB/s eta 0:00:02\n",
            "   -------------------------------------- - 188.7/198.5 MB 9.9 MB/s eta 0:00:01\n",
            "   -------------------------------------- - 189.1/198.5 MB 9.6 MB/s eta 0:00:01\n",
            "   -------------------------------------- - 189.6/198.5 MB 9.6 MB/s eta 0:00:01\n",
            "   ------------------------------------- - 190.0/198.5 MB 10.7 MB/s eta 0:00:01\n",
            "   ------------------------------------- - 190.3/198.5 MB 10.4 MB/s eta 0:00:01\n",
            "   -------------------------------------- - 190.8/198.5 MB 9.9 MB/s eta 0:00:01\n",
            "   -------------------------------------- - 191.0/198.5 MB 9.5 MB/s eta 0:00:01\n",
            "   -------------------------------------- - 191.6/198.5 MB 9.5 MB/s eta 0:00:01\n",
            "   -------------------------------------- - 192.0/198.5 MB 9.8 MB/s eta 0:00:01\n",
            "   -------------------------------------- - 192.5/198.5 MB 9.8 MB/s eta 0:00:01\n",
            "   -------------------------------------- - 192.9/198.5 MB 9.8 MB/s eta 0:00:01\n",
            "   -------------------------------------- - 193.4/198.5 MB 9.9 MB/s eta 0:00:01\n",
            "   ---------------------------------------  194.0/198.5 MB 9.8 MB/s eta 0:00:01\n",
            "   ---------------------------------------  194.4/198.5 MB 9.8 MB/s eta 0:00:01\n",
            "   ---------------------------------------  194.7/198.5 MB 9.6 MB/s eta 0:00:01\n",
            "   ---------------------------------------  195.2/198.5 MB 9.8 MB/s eta 0:00:01\n",
            "   ---------------------------------------  195.7/198.5 MB 9.8 MB/s eta 0:00:01\n",
            "   --------------------------------------  196.2/198.5 MB 10.1 MB/s eta 0:00:01\n",
            "   --------------------------------------  196.7/198.5 MB 10.1 MB/s eta 0:00:01\n",
            "   ---------------------------------------  197.1/198.5 MB 9.9 MB/s eta 0:00:01\n",
            "   ---------------------------------------  197.5/198.5 MB 9.9 MB/s eta 0:00:01\n",
            "   ---------------------------------------  198.1/198.5 MB 9.9 MB/s eta 0:00:01\n",
            "   ---------------------------------------  198.5/198.5 MB 9.9 MB/s eta 0:00:01\n",
            "   ---------------------------------------  198.5/198.5 MB 9.9 MB/s eta 0:00:01\n",
            "   ---------------------------------------  198.5/198.5 MB 9.9 MB/s eta 0:00:01\n",
            "   ---------------------------------------  198.5/198.5 MB 9.9 MB/s eta 0:00:01\n",
            "   ---------------------------------------  198.5/198.5 MB 9.9 MB/s eta 0:00:01\n",
            "   ---------------------------------------  198.5/198.5 MB 9.9 MB/s eta 0:00:01\n",
            "   ---------------------------------------  198.5/198.5 MB 9.9 MB/s eta 0:00:01\n",
            "   ---------------------------------------  198.5/198.5 MB 9.9 MB/s eta 0:00:01\n",
            "   ---------------------------------------  198.5/198.5 MB 9.9 MB/s eta 0:00:01\n",
            "   ---------------------------------------  198.5/198.5 MB 9.9 MB/s eta 0:00:01\n",
            "   ---------------------------------------  198.5/198.5 MB 9.9 MB/s eta 0:00:01\n",
            "   ---------------------------------------  198.5/198.5 MB 9.9 MB/s eta 0:00:01\n",
            "   ---------------------------------------- 198.5/198.5 MB 6.4 MB/s eta 0:00:00\n",
            "Downloading networkx-3.2.1-py3-none-any.whl (1.6 MB)\n",
            "   ---------------------------------------- 0.0/1.6 MB ? eta -:--:--\n",
            "   --------------- ------------------------ 0.6/1.6 MB 20.5 MB/s eta 0:00:01\n",
            "   ----------------------------- ---------- 1.2/1.6 MB 15.6 MB/s eta 0:00:01\n",
            "   ---------------------------------------  1.6/1.6 MB 14.8 MB/s eta 0:00:01\n",
            "   ---------------------------------------- 1.6/1.6 MB 11.6 MB/s eta 0:00:00\n",
            "Installing collected packages: mpmath, sympy, networkx, torch, accelerate\n",
            "Successfully installed accelerate-0.26.1 mpmath-1.3.0 networkx-3.2.1 sympy-1.12 torch-2.2.0\n",
            "Collecting bitsandbytes\n",
            "  Downloading bitsandbytes-0.42.0-py3-none-any.whl.metadata (9.9 kB)\n",
            "Collecting scipy (from bitsandbytes)\n",
            "  Downloading scipy-1.12.0-cp39-cp39-win_amd64.whl.metadata (60 kB)\n",
            "     ---------------------------------------- 0.0/60.4 kB ? eta -:--:--\n",
            "     ------ --------------------------------- 10.2/60.4 kB ? eta -:--:--\n",
            "     ------------------- ------------------ 30.7/60.4 kB 325.1 kB/s eta 0:00:01\n",
            "     -------------------------------- ----- 51.2/60.4 kB 435.7 kB/s eta 0:00:01\n",
            "     -------------------------------------- 60.4/60.4 kB 456.4 kB/s eta 0:00:00\n",
            "Requirement already satisfied: numpy<1.29.0,>=1.22.4 in c:\\users\\admin\\anaconda3\\envs\\envlangchain\\lib\\site-packages (from scipy->bitsandbytes) (1.26.3)\n",
            "Downloading bitsandbytes-0.42.0-py3-none-any.whl (105.0 MB)\n",
            "   ---------------------------------------- 0.0/105.0 MB ? eta -:--:--\n",
            "   ---------------------------------------- 0.1/105.0 MB 2.6 MB/s eta 0:00:41\n",
            "   ---------------------------------------- 0.3/105.0 MB 3.6 MB/s eta 0:00:29\n",
            "   ---------------------------------------- 0.6/105.0 MB 4.6 MB/s eta 0:00:23\n",
            "   ---------------------------------------- 1.0/105.0 MB 5.5 MB/s eta 0:00:19\n",
            "    --------------------------------------- 1.6/105.0 MB 7.1 MB/s eta 0:00:15\n",
            "    --------------------------------------- 1.8/105.0 MB 6.9 MB/s eta 0:00:15\n",
            "    --------------------------------------- 2.4/105.0 MB 7.6 MB/s eta 0:00:14\n",
            "   - -------------------------------------- 2.9/105.0 MB 8.1 MB/s eta 0:00:13\n",
            "   - -------------------------------------- 3.4/105.0 MB 8.3 MB/s eta 0:00:13\n",
            "   - -------------------------------------- 3.4/105.0 MB 8.3 MB/s eta 0:00:13\n",
            "   - -------------------------------------- 3.4/105.0 MB 8.3 MB/s eta 0:00:13\n",
            "   - -------------------------------------- 3.4/105.0 MB 8.3 MB/s eta 0:00:13\n",
            "   - -------------------------------------- 3.4/105.0 MB 5.7 MB/s eta 0:00:18\n",
            "   - -------------------------------------- 3.4/105.0 MB 5.7 MB/s eta 0:00:18\n",
            "   - -------------------------------------- 3.4/105.0 MB 5.7 MB/s eta 0:00:18\n",
            "   - -------------------------------------- 3.4/105.0 MB 5.7 MB/s eta 0:00:18\n",
            "   - -------------------------------------- 4.8/105.0 MB 6.1 MB/s eta 0:00:17\n",
            "   -- ------------------------------------- 6.5/105.0 MB 7.8 MB/s eta 0:00:13\n",
            "   --- ------------------------------------ 7.9/105.0 MB 9.0 MB/s eta 0:00:11\n",
            "   --- ------------------------------------ 8.4/105.0 MB 9.1 MB/s eta 0:00:11\n",
            "   --- ------------------------------------ 8.8/105.0 MB 9.2 MB/s eta 0:00:11\n",
            "   --- ------------------------------------ 9.0/105.0 MB 9.0 MB/s eta 0:00:11\n",
            "   --- ------------------------------------ 9.5/105.0 MB 9.1 MB/s eta 0:00:11\n",
            "   --- ------------------------------------ 9.9/105.0 MB 9.0 MB/s eta 0:00:11\n",
            "   ---- ----------------------------------- 10.5/105.0 MB 9.6 MB/s eta 0:00:10\n",
            "   ---- ----------------------------------- 10.9/105.0 MB 9.8 MB/s eta 0:00:10\n",
            "   ---- ----------------------------------- 11.5/105.0 MB 9.9 MB/s eta 0:00:10\n",
            "   ---- ----------------------------------- 12.1/105.0 MB 10.1 MB/s eta 0:00:10\n",
            "   ---- ----------------------------------- 12.3/105.0 MB 10.1 MB/s eta 0:00:10\n",
            "   ---- ----------------------------------- 12.4/105.0 MB 9.5 MB/s eta 0:00:10\n",
            "   ----- ---------------------------------- 13.6/105.0 MB 12.4 MB/s eta 0:00:08\n",
            "   ----- ---------------------------------- 13.9/105.0 MB 14.2 MB/s eta 0:00:07\n",
            "   ----- ---------------------------------- 14.4/105.0 MB 13.6 MB/s eta 0:00:07\n",
            "   ----- ---------------------------------- 15.1/105.0 MB 13.1 MB/s eta 0:00:07\n",
            "   ----- ---------------------------------- 15.4/105.0 MB 12.8 MB/s eta 0:00:07\n",
            "   ------ --------------------------------- 15.8/105.0 MB 12.1 MB/s eta 0:00:08\n",
            "   ------ --------------------------------- 16.2/105.0 MB 11.5 MB/s eta 0:00:08\n",
            "   ------ --------------------------------- 16.7/105.0 MB 11.3 MB/s eta 0:00:08\n",
            "   ------ --------------------------------- 17.0/105.0 MB 10.9 MB/s eta 0:00:09\n",
            "   ------ --------------------------------- 17.3/105.0 MB 10.4 MB/s eta 0:00:09\n",
            "   ------ --------------------------------- 17.6/105.0 MB 9.9 MB/s eta 0:00:09\n",
            "   ------ --------------------------------- 17.8/105.0 MB 9.6 MB/s eta 0:00:10\n",
            "   ------ --------------------------------- 18.4/105.0 MB 9.5 MB/s eta 0:00:10\n",
            "   ------- -------------------------------- 18.8/105.0 MB 9.4 MB/s eta 0:00:10\n",
            "   ------- -------------------------------- 19.1/105.0 MB 9.6 MB/s eta 0:00:09\n",
            "   ------- -------------------------------- 19.5/105.0 MB 9.6 MB/s eta 0:00:09\n",
            "   ------- -------------------------------- 20.1/105.0 MB 9.6 MB/s eta 0:00:09\n",
            "   ------- -------------------------------- 20.6/105.0 MB 9.6 MB/s eta 0:00:09\n",
            "   -------- ------------------------------- 21.2/105.0 MB 9.6 MB/s eta 0:00:09\n",
            "   -------- ------------------------------- 21.5/105.0 MB 9.5 MB/s eta 0:00:09\n",
            "   -------- ------------------------------- 21.8/105.0 MB 9.2 MB/s eta 0:00:10\n",
            "   -------- ------------------------------- 22.2/105.0 MB 9.2 MB/s eta 0:00:09\n",
            "   -------- ------------------------------- 22.6/105.0 MB 9.5 MB/s eta 0:00:09\n",
            "   -------- ------------------------------- 23.1/105.0 MB 9.5 MB/s eta 0:00:09\n",
            "   --------- ------------------------------ 23.6/105.0 MB 9.1 MB/s eta 0:00:09\n",
            "   --------- ------------------------------ 24.2/105.0 MB 9.4 MB/s eta 0:00:09\n",
            "   --------- ------------------------------ 24.8/105.0 MB 9.4 MB/s eta 0:00:09\n",
            "   --------- ------------------------------ 25.1/105.0 MB 9.2 MB/s eta 0:00:09\n",
            "   --------- ------------------------------ 25.7/105.0 MB 9.4 MB/s eta 0:00:09\n",
            "   --------- ------------------------------ 25.9/105.0 MB 9.2 MB/s eta 0:00:09\n",
            "   ---------- ----------------------------- 26.6/105.0 MB 9.5 MB/s eta 0:00:09\n",
            "   ---------- ----------------------------- 27.1/105.0 MB 9.6 MB/s eta 0:00:09\n",
            "   ---------- ----------------------------- 27.5/105.0 MB 9.6 MB/s eta 0:00:09\n",
            "   ---------- ----------------------------- 28.1/105.0 MB 10.1 MB/s eta 0:00:08\n",
            "   ---------- ----------------------------- 28.6/105.0 MB 10.1 MB/s eta 0:00:08\n",
            "   ----------- ---------------------------- 29.1/105.0 MB 10.2 MB/s eta 0:00:08\n",
            "   ----------- ---------------------------- 29.6/105.0 MB 10.4 MB/s eta 0:00:08\n",
            "   ----------- ---------------------------- 30.2/105.0 MB 10.6 MB/s eta 0:00:08\n",
            "   ----------- ---------------------------- 30.7/105.0 MB 10.6 MB/s eta 0:00:08\n",
            "   ----------- ---------------------------- 31.4/105.0 MB 10.7 MB/s eta 0:00:07\n",
            "   ------------ --------------------------- 31.9/105.0 MB 11.1 MB/s eta 0:00:07\n",
            "   ------------ --------------------------- 32.3/105.0 MB 11.1 MB/s eta 0:00:07\n",
            "   ------------ --------------------------- 32.4/105.0 MB 10.7 MB/s eta 0:00:07\n",
            "   ------------ --------------------------- 33.2/105.0 MB 11.1 MB/s eta 0:00:07\n",
            "   ------------ --------------------------- 33.5/105.0 MB 10.9 MB/s eta 0:00:07\n",
            "   ------------- -------------------------- 34.1/105.0 MB 10.9 MB/s eta 0:00:07\n",
            "   ------------- -------------------------- 34.5/105.0 MB 10.7 MB/s eta 0:00:07\n",
            "   ------------- -------------------------- 34.8/105.0 MB 10.4 MB/s eta 0:00:07\n",
            "   ------------- -------------------------- 35.3/105.0 MB 10.6 MB/s eta 0:00:07\n",
            "   ------------- -------------------------- 35.8/105.0 MB 10.4 MB/s eta 0:00:07\n",
            "   ------------- -------------------------- 36.1/105.0 MB 10.2 MB/s eta 0:00:07\n",
            "   ------------- -------------------------- 36.3/105.0 MB 10.4 MB/s eta 0:00:07\n",
            "   -------------- ------------------------- 37.0/105.0 MB 10.1 MB/s eta 0:00:07\n",
            "   -------------- ------------------------- 37.4/105.0 MB 9.9 MB/s eta 0:00:07\n",
            "   -------------- ------------------------- 37.8/105.0 MB 9.9 MB/s eta 0:00:07\n",
            "   -------------- ------------------------- 38.1/105.0 MB 9.8 MB/s eta 0:00:07\n",
            "   -------------- ------------------------- 38.6/105.0 MB 9.8 MB/s eta 0:00:07\n",
            "   -------------- ------------------------- 39.1/105.0 MB 9.6 MB/s eta 0:00:07\n",
            "   --------------- ------------------------ 39.5/105.0 MB 9.5 MB/s eta 0:00:07\n",
            "   --------------- ------------------------ 40.0/105.0 MB 9.5 MB/s eta 0:00:07\n",
            "   --------------- ------------------------ 40.4/105.0 MB 9.5 MB/s eta 0:00:07\n",
            "   --------------- ------------------------ 40.9/105.0 MB 9.4 MB/s eta 0:00:07\n",
            "   --------------- ------------------------ 41.4/105.0 MB 9.2 MB/s eta 0:00:07\n",
            "   --------------- ------------------------ 42.0/105.0 MB 9.2 MB/s eta 0:00:07\n",
            "   ---------------- ----------------------- 42.4/105.0 MB 9.2 MB/s eta 0:00:07\n",
            "   ---------------- ----------------------- 43.0/105.0 MB 9.6 MB/s eta 0:00:07\n",
            "   ---------------- ----------------------- 43.3/105.0 MB 9.6 MB/s eta 0:00:07\n",
            "   ---------------- ----------------------- 43.7/105.0 MB 9.5 MB/s eta 0:00:07\n",
            "   ---------------- ----------------------- 44.2/105.0 MB 9.4 MB/s eta 0:00:07\n",
            "   ---------------- ----------------------- 44.6/105.0 MB 9.4 MB/s eta 0:00:07\n",
            "   ----------------- ---------------------- 45.0/105.0 MB 9.4 MB/s eta 0:00:07\n",
            "   ----------------- ---------------------- 45.3/105.0 MB 9.4 MB/s eta 0:00:07\n",
            "   ----------------- ---------------------- 45.5/105.0 MB 9.0 MB/s eta 0:00:07\n",
            "   ----------------- ---------------------- 45.7/105.0 MB 8.8 MB/s eta 0:00:07\n",
            "   ----------------- ---------------------- 45.9/105.0 MB 8.6 MB/s eta 0:00:07\n",
            "   ----------------- ---------------------- 46.2/105.0 MB 8.4 MB/s eta 0:00:08\n",
            "   ----------------- ---------------------- 46.6/105.0 MB 8.8 MB/s eta 0:00:07\n",
            "   ----------------- ---------------------- 46.9/105.0 MB 8.8 MB/s eta 0:00:07\n",
            "   ----------------- ---------------------- 47.2/105.0 MB 8.5 MB/s eta 0:00:07\n",
            "   ------------------ --------------------- 47.7/105.0 MB 8.8 MB/s eta 0:00:07\n",
            "   ------------------ --------------------- 48.1/105.0 MB 8.7 MB/s eta 0:00:07\n",
            "   ------------------ --------------------- 48.6/105.0 MB 8.8 MB/s eta 0:00:07\n",
            "   ------------------ --------------------- 49.1/105.0 MB 8.7 MB/s eta 0:00:07\n",
            "   ------------------ --------------------- 49.4/105.0 MB 8.6 MB/s eta 0:00:07\n",
            "   ------------------- -------------------- 49.9/105.0 MB 8.7 MB/s eta 0:00:07\n",
            "   ------------------- -------------------- 50.3/105.0 MB 8.7 MB/s eta 0:00:07\n",
            "   ------------------- -------------------- 50.8/105.0 MB 8.7 MB/s eta 0:00:07\n",
            "   ------------------- -------------------- 51.2/105.0 MB 8.6 MB/s eta 0:00:07\n",
            "   ------------------- -------------------- 51.6/105.0 MB 8.7 MB/s eta 0:00:07\n",
            "   ------------------- -------------------- 52.1/105.0 MB 8.5 MB/s eta 0:00:07\n",
            "   -------------------- ------------------- 52.6/105.0 MB 8.6 MB/s eta 0:00:07\n",
            "   -------------------- ------------------- 53.0/105.0 MB 8.5 MB/s eta 0:00:07\n",
            "   -------------------- ------------------- 53.1/105.0 MB 8.2 MB/s eta 0:00:07\n",
            "   -------------------- ------------------- 53.6/105.0 MB 8.4 MB/s eta 0:00:07\n",
            "   -------------------- ------------------- 54.1/105.0 MB 8.4 MB/s eta 0:00:07\n",
            "   -------------------- ------------------- 54.4/105.0 MB 8.4 MB/s eta 0:00:07\n",
            "   -------------------- ------------------- 54.8/105.0 MB 8.4 MB/s eta 0:00:06\n",
            "   --------------------- ------------------ 55.3/105.0 MB 8.4 MB/s eta 0:00:06\n",
            "   --------------------- ------------------ 55.7/105.0 MB 8.7 MB/s eta 0:00:06\n",
            "   --------------------- ------------------ 56.1/105.0 MB 9.0 MB/s eta 0:00:06\n",
            "   --------------------- ------------------ 56.6/105.0 MB 9.1 MB/s eta 0:00:06\n",
            "   --------------------- ------------------ 57.1/105.0 MB 9.2 MB/s eta 0:00:06\n",
            "   --------------------- ------------------ 57.4/105.0 MB 9.4 MB/s eta 0:00:06\n",
            "   ---------------------- ----------------- 58.0/105.0 MB 9.4 MB/s eta 0:00:06\n",
            "   ---------------------- ----------------- 58.4/105.0 MB 9.4 MB/s eta 0:00:05\n",
            "   ---------------------- ----------------- 58.9/105.0 MB 9.4 MB/s eta 0:00:05\n",
            "   ---------------------- ----------------- 59.2/105.0 MB 9.2 MB/s eta 0:00:05\n",
            "   ---------------------- ----------------- 59.6/105.0 MB 9.4 MB/s eta 0:00:05\n",
            "   ---------------------- ----------------- 60.2/105.0 MB 9.5 MB/s eta 0:00:05\n",
            "   ----------------------- ---------------- 60.5/105.0 MB 9.4 MB/s eta 0:00:05\n",
            "   ----------------------- ---------------- 60.9/105.0 MB 9.2 MB/s eta 0:00:05\n",
            "   ----------------------- ---------------- 61.4/105.0 MB 9.4 MB/s eta 0:00:05\n",
            "   ----------------------- ---------------- 62.0/105.0 MB 9.5 MB/s eta 0:00:05\n",
            "   ----------------------- ---------------- 62.4/105.0 MB 9.4 MB/s eta 0:00:05\n",
            "   ----------------------- ---------------- 62.9/105.0 MB 9.5 MB/s eta 0:00:05\n",
            "   ------------------------ --------------- 63.4/105.0 MB 9.8 MB/s eta 0:00:05\n",
            "   ------------------------ --------------- 64.0/105.0 MB 9.8 MB/s eta 0:00:05\n",
            "   ------------------------ --------------- 64.5/105.0 MB 9.8 MB/s eta 0:00:05\n",
            "   ------------------------ --------------- 64.9/105.0 MB 10.1 MB/s eta 0:00:04\n",
            "   ------------------------ --------------- 65.2/105.0 MB 9.9 MB/s eta 0:00:05\n",
            "   ------------------------- -------------- 65.8/105.0 MB 9.9 MB/s eta 0:00:04\n",
            "   ------------------------- -------------- 66.4/105.0 MB 10.4 MB/s eta 0:00:04\n",
            "   ------------------------- -------------- 66.9/105.0 MB 10.4 MB/s eta 0:00:04\n",
            "   ------------------------- -------------- 67.3/105.0 MB 10.2 MB/s eta 0:00:04\n",
            "   ------------------------- -------------- 67.9/105.0 MB 10.4 MB/s eta 0:00:04\n",
            "   -------------------------- ------------- 68.4/105.0 MB 10.4 MB/s eta 0:00:04\n",
            "   -------------------------- ------------- 69.0/105.0 MB 10.6 MB/s eta 0:00:04\n",
            "   -------------------------- ------------- 69.5/105.0 MB 10.7 MB/s eta 0:00:04\n",
            "   -------------------------- ------------- 69.9/105.0 MB 10.7 MB/s eta 0:00:04\n",
            "   -------------------------- ------------- 70.3/105.0 MB 10.6 MB/s eta 0:00:04\n",
            "   -------------------------- ------------- 70.7/105.0 MB 10.4 MB/s eta 0:00:04\n",
            "   --------------------------- ------------ 71.1/105.0 MB 10.6 MB/s eta 0:00:04\n",
            "   --------------------------- ------------ 71.8/105.0 MB 10.7 MB/s eta 0:00:04\n",
            "   --------------------------- ------------ 72.2/105.0 MB 10.7 MB/s eta 0:00:04\n",
            "   --------------------------- ------------ 72.7/105.0 MB 10.9 MB/s eta 0:00:03\n",
            "   --------------------------- ------------ 73.3/105.0 MB 10.9 MB/s eta 0:00:03\n",
            "   ---------------------------- ----------- 73.9/105.0 MB 11.1 MB/s eta 0:00:03\n",
            "   ---------------------------- ----------- 74.6/105.0 MB 11.1 MB/s eta 0:00:03\n",
            "   ---------------------------- ----------- 75.2/105.0 MB 11.5 MB/s eta 0:00:03\n",
            "   ---------------------------- ----------- 75.9/105.0 MB 11.7 MB/s eta 0:00:03\n",
            "   ----------------------------- ---------- 76.4/105.0 MB 11.5 MB/s eta 0:00:03\n",
            "   ----------------------------- ---------- 76.9/105.0 MB 11.5 MB/s eta 0:00:03\n",
            "   ----------------------------- ---------- 77.3/105.0 MB 11.5 MB/s eta 0:00:03\n",
            "   ----------------------------- ---------- 77.9/105.0 MB 11.5 MB/s eta 0:00:03\n",
            "   ----------------------------- ---------- 78.5/105.0 MB 11.7 MB/s eta 0:00:03\n",
            "   ------------------------------ --------- 79.1/105.0 MB 11.7 MB/s eta 0:00:03\n",
            "   ------------------------------ --------- 79.8/105.0 MB 12.1 MB/s eta 0:00:03\n",
            "   ------------------------------ --------- 80.4/105.0 MB 12.4 MB/s eta 0:00:02\n",
            "   ------------------------------ --------- 81.0/105.0 MB 12.8 MB/s eta 0:00:02\n",
            "   ------------------------------- -------- 81.6/105.0 MB 12.8 MB/s eta 0:00:02\n",
            "   ------------------------------- -------- 82.0/105.0 MB 12.8 MB/s eta 0:00:02\n",
            "   ------------------------------- -------- 82.5/105.0 MB 12.8 MB/s eta 0:00:02\n",
            "   ------------------------------- -------- 83.1/105.0 MB 12.6 MB/s eta 0:00:02\n",
            "   ------------------------------- -------- 83.7/105.0 MB 12.6 MB/s eta 0:00:02\n",
            "   -------------------------------- ------- 84.3/105.0 MB 12.6 MB/s eta 0:00:02\n",
            "   -------------------------------- ------- 84.9/105.0 MB 12.6 MB/s eta 0:00:02\n",
            "   -------------------------------- ------- 85.4/105.0 MB 12.4 MB/s eta 0:00:02\n",
            "   -------------------------------- ------- 86.1/105.0 MB 12.6 MB/s eta 0:00:02\n",
            "   --------------------------------- ------ 86.6/105.0 MB 12.1 MB/s eta 0:00:02\n",
            "   --------------------------------- ------ 87.3/105.0 MB 12.8 MB/s eta 0:00:02\n",
            "   --------------------------------- ------ 87.9/105.0 MB 12.8 MB/s eta 0:00:02\n",
            "   --------------------------------- ------ 88.3/105.0 MB 12.6 MB/s eta 0:00:02\n",
            "   --------------------------------- ------ 88.8/105.0 MB 12.6 MB/s eta 0:00:02\n",
            "   ---------------------------------- ----- 89.3/105.0 MB 12.6 MB/s eta 0:00:02\n",
            "   ---------------------------------- ----- 89.7/105.0 MB 12.1 MB/s eta 0:00:02\n",
            "   ---------------------------------- ----- 90.2/105.0 MB 12.1 MB/s eta 0:00:02\n",
            "   ---------------------------------- ----- 90.7/105.0 MB 11.9 MB/s eta 0:00:02\n",
            "   ---------------------------------- ----- 91.0/105.0 MB 11.7 MB/s eta 0:00:02\n",
            "   ---------------------------------- ----- 91.6/105.0 MB 11.5 MB/s eta 0:00:02\n",
            "   ----------------------------------- ---- 92.1/105.0 MB 11.5 MB/s eta 0:00:02\n",
            "   ----------------------------------- ---- 92.8/105.0 MB 11.7 MB/s eta 0:00:02\n",
            "   ----------------------------------- ---- 93.2/105.0 MB 11.5 MB/s eta 0:00:02\n",
            "   ----------------------------------- ---- 93.7/105.0 MB 11.5 MB/s eta 0:00:01\n",
            "   ----------------------------------- ---- 94.1/105.0 MB 11.5 MB/s eta 0:00:01\n",
            "   ----------------------------------- ---- 94.4/105.0 MB 11.1 MB/s eta 0:00:01\n",
            "   ------------------------------------ --- 94.9/105.0 MB 11.3 MB/s eta 0:00:01\n",
            "   ------------------------------------ --- 95.1/105.0 MB 10.7 MB/s eta 0:00:01\n",
            "   ------------------------------------ --- 95.6/105.0 MB 10.6 MB/s eta 0:00:01\n",
            "   ------------------------------------ --- 95.8/105.0 MB 10.2 MB/s eta 0:00:01\n",
            "   ------------------------------------ --- 96.5/105.0 MB 10.4 MB/s eta 0:00:01\n",
            "   ------------------------------------ --- 97.1/105.0 MB 10.4 MB/s eta 0:00:01\n",
            "   ------------------------------------- -- 97.7/105.0 MB 10.2 MB/s eta 0:00:01\n",
            "   ------------------------------------- -- 98.1/105.0 MB 10.1 MB/s eta 0:00:01\n",
            "   ------------------------------------- -- 98.6/105.0 MB 10.2 MB/s eta 0:00:01\n",
            "   ------------------------------------- -- 99.3/105.0 MB 10.4 MB/s eta 0:00:01\n",
            "   ------------------------------------- -- 99.7/105.0 MB 10.4 MB/s eta 0:00:01\n",
            "   ------------------------------------- - 100.1/105.0 MB 10.2 MB/s eta 0:00:01\n",
            "   ------------------------------------- - 100.6/105.0 MB 10.2 MB/s eta 0:00:01\n",
            "   ------------------------------------- - 101.2/105.0 MB 10.6 MB/s eta 0:00:01\n",
            "   ------------------------------------- - 101.5/105.0 MB 10.6 MB/s eta 0:00:01\n",
            "   ------------------------------------- - 102.1/105.0 MB 10.4 MB/s eta 0:00:01\n",
            "   --------------------------------------  102.6/105.0 MB 10.4 MB/s eta 0:00:01\n",
            "   --------------------------------------  103.0/105.0 MB 10.2 MB/s eta 0:00:01\n",
            "   --------------------------------------  103.5/105.0 MB 10.2 MB/s eta 0:00:01\n",
            "   --------------------------------------  104.2/105.0 MB 10.4 MB/s eta 0:00:01\n",
            "   --------------------------------------  104.6/105.0 MB 10.6 MB/s eta 0:00:01\n",
            "   --------------------------------------  105.0/105.0 MB 10.6 MB/s eta 0:00:01\n",
            "   --------------------------------------  105.0/105.0 MB 10.6 MB/s eta 0:00:01\n",
            "   --------------------------------------  105.0/105.0 MB 10.6 MB/s eta 0:00:01\n",
            "   --------------------------------------  105.0/105.0 MB 10.6 MB/s eta 0:00:01\n",
            "   --------------------------------------  105.0/105.0 MB 10.6 MB/s eta 0:00:01\n",
            "   --------------------------------------  105.0/105.0 MB 10.6 MB/s eta 0:00:01\n",
            "   --------------------------------------  105.0/105.0 MB 10.6 MB/s eta 0:00:01\n",
            "   --------------------------------------  105.0/105.0 MB 10.6 MB/s eta 0:00:01\n",
            "   --------------------------------------  105.0/105.0 MB 10.6 MB/s eta 0:00:01\n",
            "   --------------------------------------  105.0/105.0 MB 10.6 MB/s eta 0:00:01\n",
            "   --------------------------------------  105.0/105.0 MB 10.6 MB/s eta 0:00:01\n",
            "   --------------------------------------  105.0/105.0 MB 10.6 MB/s eta 0:00:01\n",
            "   --------------------------------------  105.0/105.0 MB 10.6 MB/s eta 0:00:01\n",
            "   --------------------------------------  105.0/105.0 MB 10.6 MB/s eta 0:00:01\n",
            "   --------------------------------------  105.0/105.0 MB 10.6 MB/s eta 0:00:01\n",
            "   --------------------------------------  105.0/105.0 MB 10.6 MB/s eta 0:00:01\n",
            "   --------------------------------------  105.0/105.0 MB 10.6 MB/s eta 0:00:01\n",
            "   ---------------------------------------- 105.0/105.0 MB 5.9 MB/s eta 0:00:00\n",
            "Downloading scipy-1.12.0-cp39-cp39-win_amd64.whl (46.2 MB)\n",
            "   ---------------------------------------- 0.0/46.2 MB ? eta -:--:--\n",
            "   ---------------------------------------- 0.4/46.2 MB 12.6 MB/s eta 0:00:04\n",
            "    --------------------------------------- 0.8/46.2 MB 12.0 MB/s eta 0:00:04\n",
            "    --------------------------------------- 1.0/46.2 MB 8.3 MB/s eta 0:00:06\n",
            "   - -------------------------------------- 1.4/46.2 MB 8.7 MB/s eta 0:00:06\n",
            "   - -------------------------------------- 1.5/46.2 MB 6.7 MB/s eta 0:00:07\n",
            "   - -------------------------------------- 2.0/46.2 MB 7.7 MB/s eta 0:00:06\n",
            "   -- ------------------------------------- 2.3/46.2 MB 7.8 MB/s eta 0:00:06\n",
            "   -- ------------------------------------- 2.9/46.2 MB 8.0 MB/s eta 0:00:06\n",
            "   -- ------------------------------------- 3.3/46.2 MB 8.4 MB/s eta 0:00:06\n",
            "   --- ------------------------------------ 3.6/46.2 MB 8.2 MB/s eta 0:00:06\n",
            "   --- ------------------------------------ 3.9/46.2 MB 8.0 MB/s eta 0:00:06\n",
            "   --- ------------------------------------ 4.4/46.2 MB 8.2 MB/s eta 0:00:06\n",
            "   ---- ----------------------------------- 4.9/46.2 MB 8.5 MB/s eta 0:00:05\n",
            "   ---- ----------------------------------- 5.2/46.2 MB 8.3 MB/s eta 0:00:05\n",
            "   ---- ----------------------------------- 5.5/46.2 MB 8.2 MB/s eta 0:00:05\n",
            "   ----- ---------------------------------- 6.0/46.2 MB 8.3 MB/s eta 0:00:05\n",
            "   ----- ---------------------------------- 6.4/46.2 MB 8.4 MB/s eta 0:00:05\n",
            "   ----- ---------------------------------- 6.8/46.2 MB 8.3 MB/s eta 0:00:05\n",
            "   ------ --------------------------------- 7.3/46.2 MB 8.5 MB/s eta 0:00:05\n",
            "   ------ --------------------------------- 7.7/46.2 MB 8.7 MB/s eta 0:00:05\n",
            "   ------- -------------------------------- 8.1/46.2 MB 8.5 MB/s eta 0:00:05\n",
            "   ------- -------------------------------- 8.7/46.2 MB 8.8 MB/s eta 0:00:05\n",
            "   ------- -------------------------------- 9.1/46.2 MB 8.9 MB/s eta 0:00:05\n",
            "   -------- ------------------------------- 9.5/46.2 MB 8.8 MB/s eta 0:00:05\n",
            "   -------- ------------------------------- 10.0/46.2 MB 8.9 MB/s eta 0:00:05\n",
            "   --------- ------------------------------ 10.5/46.2 MB 9.0 MB/s eta 0:00:04\n",
            "   --------- ------------------------------ 10.6/46.2 MB 8.6 MB/s eta 0:00:05\n",
            "   --------- ------------------------------ 11.0/46.2 MB 8.5 MB/s eta 0:00:05\n",
            "   --------- ------------------------------ 11.4/46.2 MB 8.7 MB/s eta 0:00:04\n",
            "   ---------- ----------------------------- 11.9/46.2 MB 9.1 MB/s eta 0:00:04\n",
            "   ---------- ----------------------------- 12.5/46.2 MB 9.2 MB/s eta 0:00:04\n",
            "   ----------- ---------------------------- 12.8/46.2 MB 9.1 MB/s eta 0:00:04\n",
            "   ----------- ---------------------------- 13.4/46.2 MB 9.1 MB/s eta 0:00:04\n",
            "   ------------ --------------------------- 13.9/46.2 MB 9.5 MB/s eta 0:00:04\n",
            "   ------------ --------------------------- 14.2/46.2 MB 9.4 MB/s eta 0:00:04\n",
            "   ------------ --------------------------- 14.7/46.2 MB 9.4 MB/s eta 0:00:04\n",
            "   ------------- -------------------------- 15.3/46.2 MB 9.5 MB/s eta 0:00:04\n",
            "   ------------- -------------------------- 15.6/46.2 MB 9.6 MB/s eta 0:00:04\n",
            "   ------------- -------------------------- 15.7/46.2 MB 9.4 MB/s eta 0:00:04\n",
            "   -------------- ------------------------- 16.3/46.2 MB 9.5 MB/s eta 0:00:04\n",
            "   -------------- ------------------------- 16.7/46.2 MB 9.5 MB/s eta 0:00:04\n",
            "   -------------- ------------------------- 17.0/46.2 MB 9.4 MB/s eta 0:00:04\n",
            "   --------------- ------------------------ 17.3/46.2 MB 9.2 MB/s eta 0:00:04\n",
            "   --------------- ------------------------ 17.9/46.2 MB 9.1 MB/s eta 0:00:04\n",
            "   --------------- ------------------------ 18.2/46.2 MB 9.4 MB/s eta 0:00:03\n",
            "   ---------------- ----------------------- 18.7/46.2 MB 9.1 MB/s eta 0:00:04\n",
            "   ---------------- ----------------------- 19.3/46.2 MB 9.1 MB/s eta 0:00:03\n",
            "   ----------------- ---------------------- 19.9/46.2 MB 9.4 MB/s eta 0:00:03\n",
            "   ----------------- ---------------------- 20.2/46.2 MB 9.4 MB/s eta 0:00:03\n",
            "   ----------------- ---------------------- 20.7/46.2 MB 9.4 MB/s eta 0:00:03\n",
            "   ------------------ --------------------- 21.3/46.2 MB 9.9 MB/s eta 0:00:03\n",
            "   ------------------ --------------------- 21.6/46.2 MB 9.8 MB/s eta 0:00:03\n",
            "   ------------------- -------------------- 22.2/46.2 MB 9.8 MB/s eta 0:00:03\n",
            "   ------------------- -------------------- 22.7/46.2 MB 9.9 MB/s eta 0:00:03\n",
            "   ------------------- -------------------- 23.1/46.2 MB 9.9 MB/s eta 0:00:03\n",
            "   -------------------- ------------------- 23.6/46.2 MB 9.8 MB/s eta 0:00:03\n",
            "   -------------------- ------------------- 24.1/46.2 MB 9.6 MB/s eta 0:00:03\n",
            "   --------------------- ------------------ 24.6/46.2 MB 9.9 MB/s eta 0:00:03\n",
            "   --------------------- ------------------ 25.1/46.2 MB 9.9 MB/s eta 0:00:03\n",
            "   ---------------------- ----------------- 25.5/46.2 MB 9.8 MB/s eta 0:00:03\n",
            "   ---------------------- ----------------- 25.8/46.2 MB 9.6 MB/s eta 0:00:03\n",
            "   ---------------------- ----------------- 26.4/46.2 MB 10.2 MB/s eta 0:00:02\n",
            "   ----------------------- ---------------- 26.9/46.2 MB 10.2 MB/s eta 0:00:02\n",
            "   ----------------------- ---------------- 27.2/46.2 MB 10.1 MB/s eta 0:00:02\n",
            "   ----------------------- ---------------- 27.6/46.2 MB 10.4 MB/s eta 0:00:02\n",
            "   ------------------------ --------------- 28.0/46.2 MB 10.2 MB/s eta 0:00:02\n",
            "   ------------------------ --------------- 28.5/46.2 MB 10.4 MB/s eta 0:00:02\n",
            "   ------------------------ --------------- 28.9/46.2 MB 10.1 MB/s eta 0:00:02\n",
            "   ------------------------- -------------- 29.4/46.2 MB 10.1 MB/s eta 0:00:02\n",
            "   ------------------------- -------------- 30.0/46.2 MB 10.1 MB/s eta 0:00:02\n",
            "   -------------------------- ------------- 30.7/46.2 MB 10.4 MB/s eta 0:00:02\n",
            "   -------------------------- ------------- 31.1/46.2 MB 10.2 MB/s eta 0:00:02\n",
            "   --------------------------- ------------ 31.7/46.2 MB 10.6 MB/s eta 0:00:02\n",
            "   --------------------------- ------------ 32.2/46.2 MB 10.4 MB/s eta 0:00:02\n",
            "   ---------------------------- ----------- 32.7/46.2 MB 10.6 MB/s eta 0:00:02\n",
            "   ---------------------------- ----------- 33.2/46.2 MB 10.6 MB/s eta 0:00:02\n",
            "   ----------------------------- ---------- 33.8/46.2 MB 10.7 MB/s eta 0:00:02\n",
            "   ----------------------------- ---------- 34.4/46.2 MB 10.6 MB/s eta 0:00:02\n",
            "   ------------------------------ --------- 34.9/46.2 MB 10.7 MB/s eta 0:00:02\n",
            "   ------------------------------ --------- 35.6/46.2 MB 11.1 MB/s eta 0:00:01\n",
            "   ------------------------------- -------- 36.1/46.2 MB 11.3 MB/s eta 0:00:01\n",
            "   ------------------------------- -------- 36.6/46.2 MB 11.3 MB/s eta 0:00:01\n",
            "   -------------------------------- ------- 37.2/46.2 MB 11.5 MB/s eta 0:00:01\n",
            "   -------------------------------- ------- 37.7/46.2 MB 11.7 MB/s eta 0:00:01\n",
            "   --------------------------------- ------ 38.3/46.2 MB 11.9 MB/s eta 0:00:01\n",
            "   --------------------------------- ------ 38.6/46.2 MB 11.5 MB/s eta 0:00:01\n",
            "   --------------------------------- ------ 38.8/46.2 MB 11.3 MB/s eta 0:00:01\n",
            "   ---------------------------------- ----- 39.3/46.2 MB 11.5 MB/s eta 0:00:01\n",
            "   ---------------------------------- ----- 39.6/46.2 MB 11.1 MB/s eta 0:00:01\n",
            "   ---------------------------------- ----- 40.1/46.2 MB 10.9 MB/s eta 0:00:01\n",
            "   ----------------------------------- ---- 40.6/46.2 MB 10.9 MB/s eta 0:00:01\n",
            "   ----------------------------------- ---- 41.1/46.2 MB 10.9 MB/s eta 0:00:01\n",
            "   ------------------------------------ --- 41.6/46.2 MB 10.9 MB/s eta 0:00:01\n",
            "   ------------------------------------ --- 42.2/46.2 MB 11.1 MB/s eta 0:00:01\n",
            "   ------------------------------------ --- 42.5/46.2 MB 10.9 MB/s eta 0:00:01\n",
            "   ------------------------------------- -- 43.0/46.2 MB 10.7 MB/s eta 0:00:01\n",
            "   ------------------------------------- -- 43.4/46.2 MB 10.4 MB/s eta 0:00:01\n",
            "   ------------------------------------- -- 43.8/46.2 MB 10.6 MB/s eta 0:00:01\n",
            "   -------------------------------------- - 44.3/46.2 MB 10.4 MB/s eta 0:00:01\n",
            "   -------------------------------------- - 44.7/46.2 MB 10.2 MB/s eta 0:00:01\n",
            "   ---------------------------------------  45.1/46.2 MB 10.1 MB/s eta 0:00:01\n",
            "   ---------------------------------------  45.7/46.2 MB 10.1 MB/s eta 0:00:01\n",
            "   ---------------------------------------  46.2/46.2 MB 10.1 MB/s eta 0:00:01\n",
            "   ---------------------------------------  46.2/46.2 MB 9.9 MB/s eta 0:00:01\n",
            "   ---------------------------------------  46.2/46.2 MB 9.9 MB/s eta 0:00:01\n",
            "   ---------------------------------------  46.2/46.2 MB 9.9 MB/s eta 0:00:01\n",
            "   ---------------------------------------  46.2/46.2 MB 9.9 MB/s eta 0:00:01\n",
            "   ---------------------------------------  46.2/46.2 MB 9.9 MB/s eta 0:00:01\n",
            "   ---------------------------------------  46.2/46.2 MB 9.9 MB/s eta 0:00:01\n",
            "   ---------------------------------------  46.2/46.2 MB 9.9 MB/s eta 0:00:01\n",
            "   ---------------------------------------  46.2/46.2 MB 9.9 MB/s eta 0:00:01\n",
            "   ---------------------------------------  46.2/46.2 MB 9.9 MB/s eta 0:00:01\n",
            "   ---------------------------------------- 46.2/46.2 MB 6.9 MB/s eta 0:00:00\n",
            "Installing collected packages: scipy, bitsandbytes\n",
            "Successfully installed bitsandbytes-0.42.0 scipy-1.12.0\n"
          ]
        }
      ],
      "source": [
        "!pip install accelerate\n",
        "!pip install  bitsandbytes"
      ]
    },
    {
      "cell_type": "markdown",
      "id": "bd376a27-a54b-4343-94c4-ffdc88f1fbdd",
      "metadata": {
        "id": "bd376a27-a54b-4343-94c4-ffdc88f1fbdd"
      },
      "source": [
        "# Get Started"
      ]
    },
    {
      "cell_type": "code",
      "execution_count": null,
      "id": "30f1b9f3-3955-4129-86b1-324c352f82e7",
      "metadata": {
        "id": "30f1b9f3-3955-4129-86b1-324c352f82e7"
      },
      "outputs": [],
      "source": [
        "from langchain_community.llms import HuggingFaceHub"
      ]
    },
    {
      "cell_type": "code",
      "execution_count": null,
      "id": "e7feef0b-bbb2-43d7-a27e-726441321a4b",
      "metadata": {
        "id": "e7feef0b-bbb2-43d7-a27e-726441321a4b"
      },
      "outputs": [],
      "source": [
        "from langchain_community.llms.huggingface_pipeline import HuggingFacePipeline"
      ]
    },
    {
      "cell_type": "code",
      "execution_count": null,
      "id": "c74f80c9-3778-46ee-a89a-8e377c5c82e4",
      "metadata": {
        "id": "c74f80c9-3778-46ee-a89a-8e377c5c82e4"
      },
      "outputs": [],
      "source": [
        "from langchain_community.llms import HuggingFaceTextGenInference"
      ]
    },
    {
      "cell_type": "code",
      "execution_count": null,
      "id": "868b09eb-25de-486c-b228-aa735f2e81bc",
      "metadata": {
        "id": "868b09eb-25de-486c-b228-aa735f2e81bc"
      },
      "outputs": [],
      "source": [
        "from langchain import PromptTemplate, HuggingFaceHub, LLMChain"
      ]
    },
    {
      "cell_type": "markdown",
      "id": "b0a261b1-a72d-40b2-bab4-344d3e48be0a",
      "metadata": {
        "id": "b0a261b1-a72d-40b2-bab4-344d3e48be0a"
      },
      "source": [
        "# Step 03: Setting the Environment"
      ]
    },
    {
      "cell_type": "code",
      "execution_count": null,
      "id": "218ba697-d4b4-4078-b83e-f6bac6bc905b",
      "metadata": {
        "id": "218ba697-d4b4-4078-b83e-f6bac6bc905b"
      },
      "outputs": [],
      "source": [
        "import os\n",
        "os.environ['HUGGINGFACEHUB_API_TOKEN']=\"Put you access token from Hugging Face\""
      ]
    },
    {
      "cell_type": "markdown",
      "id": "90d1b1c5-bc2f-430f-aeb8-ade9a698be40",
      "metadata": {
        "id": "90d1b1c5-bc2f-430f-aeb8-ade9a698be40"
      },
      "source": [
        "### Text2Text Generation Models | Seq2Seq Models | Encoder-Decoder Models"
      ]
    },
    {
      "cell_type": "code",
      "execution_count": null,
      "id": "42add594-8d12-4542-9b60-f728265e4cd4",
      "metadata": {
        "id": "42add594-8d12-4542-9b60-f728265e4cd4"
      },
      "outputs": [],
      "source": [
        "prompt = PromptTemplate(\n",
        "    input_variables=[\"product\"],\n",
        "    template=\"What is a good name for a company that makes {product}\"\n",
        ")"
      ]
    },
    {
      "cell_type": "code",
      "execution_count": null,
      "id": "f3b4ce36-6994-4db8-bb62-5f29f4383b2f",
      "metadata": {
        "id": "f3b4ce36-6994-4db8-bb62-5f29f4383b2f"
      },
      "outputs": [],
      "source": [
        "# llm = HuggingFaceHub(repo_id='facebook/mbart-large-50', model_kwargs={'temperature':1.5})\n",
        "# llm = llm=HuggingFaceHub(repo_id='google/flan-t5-large', model_kwargs={'temperature':0})"
      ]
    },
    {
      "cell_type": "code",
      "execution_count": null,
      "id": "72606a92-d0d9-4af3-a110-4ec4187b1552",
      "metadata": {
        "id": "72606a92-d0d9-4af3-a110-4ec4187b1552"
      },
      "outputs": [],
      "source": [
        "chain = LLMChain(llm=HuggingFaceHub(repo_id='google/flan-t5-large', model_kwargs={'temperature':0}),prompt = prompt)"
      ]
    },
    {
      "cell_type": "code",
      "execution_count": null,
      "id": "9a6fb074-222e-4fec-8cca-e5254653573c",
      "metadata": {
        "id": "9a6fb074-222e-4fec-8cca-e5254653573c",
        "outputId": "9df14fe0-be49-46ab-a468-da8bb51a2615"
      },
      "outputs": [
        {
          "data": {
            "text/plain": [
              "'kool kool'"
            ]
          },
          "execution_count": 19,
          "metadata": {},
          "output_type": "execute_result"
        }
      ],
      "source": [
        "chain.run(\"Indian Fastfood\")"
      ]
    },
    {
      "cell_type": "code",
      "execution_count": null,
      "id": "ef74e6b2-45f6-4eed-b578-d4c88f48a35d",
      "metadata": {
        "id": "ef74e6b2-45f6-4eed-b578-d4c88f48a35d"
      },
      "outputs": [],
      "source": [
        "chain2 = LLMChain(llm=HuggingFaceHub(repo_id='facebook/mbart-large-50', model_kwargs={'temperature':0.5}),prompt = prompt)"
      ]
    },
    {
      "cell_type": "code",
      "execution_count": null,
      "id": "efe60f42-d35c-4688-818e-e9685ee02438",
      "metadata": {
        "id": "efe60f42-d35c-4688-818e-e9685ee02438",
        "outputId": "de4d8a10-26d9-472b-d397-cbf234c80522"
      },
      "outputs": [
        {
          "data": {
            "text/plain": [
              "'What is a good name for a company that makes Indian Fastfood'"
            ]
          },
          "execution_count": 21,
          "metadata": {},
          "output_type": "execute_result"
        }
      ],
      "source": [
        "chain2.run(\"Indian Fastfood\")"
      ]
    },
    {
      "cell_type": "markdown",
      "id": "3d872cb4-b869-4644-a5da-f145ac93fa3f",
      "metadata": {
        "id": "3d872cb4-b869-4644-a5da-f145ac93fa3f"
      },
      "source": [
        "# Text Generation Models | Decoder Only Models"
      ]
    },
    {
      "cell_type": "code",
      "execution_count": null,
      "id": "cf7c119d-c4da-4c03-bbb2-5d5ed00a5d05",
      "metadata": {
        "id": "cf7c119d-c4da-4c03-bbb2-5d5ed00a5d05"
      },
      "outputs": [],
      "source": [
        "from langchain.llms import HuggingFacePipeline\n",
        "import torch\n",
        "from transformers import AutoTokenizer, AutoModelForCausalLM, pipeline, AutoModelForSeq2SeqLM\n"
      ]
    },
    {
      "cell_type": "code",
      "execution_count": null,
      "id": "373c12b9-7cf8-4888-bd7a-c27dd992f8a9",
      "metadata": {
        "id": "373c12b9-7cf8-4888-bd7a-c27dd992f8a9"
      },
      "outputs": [],
      "source": [
        "model_id='google/flan-t5-large'"
      ]
    },
    {
      "cell_type": "code",
      "execution_count": null,
      "id": "f1d43205-9088-446e-8670-7c967808d82f",
      "metadata": {
        "id": "f1d43205-9088-446e-8670-7c967808d82f",
        "outputId": "12834441-9539-4abb-f9da-439637727956",
        "colab": {
          "referenced_widgets": [
            "5ab97b3afd734af5a154823a8bc62ed8",
            "0a24cc019aa1430fa5850d7c9eeddd36",
            "3031e56bbaf141a2900403c74590c57f",
            "5d68a97cc81c476ebc92e3058332bc49"
          ]
        }
      },
      "outputs": [
        {
          "data": {
            "application/vnd.jupyter.widget-view+json": {
              "model_id": "5ab97b3afd734af5a154823a8bc62ed8",
              "version_major": 2,
              "version_minor": 0
            },
            "text/plain": [
              "tokenizer_config.json:   0%|          | 0.00/2.54k [00:00<?, ?B/s]"
            ]
          },
          "metadata": {},
          "output_type": "display_data"
        },
        {
          "name": "stderr",
          "output_type": "stream",
          "text": [
            "C:\\Users\\Admin\\anaconda3\\envs\\envlangchain\\lib\\site-packages\\huggingface_hub\\file_download.py:149: UserWarning: `huggingface_hub` cache-system uses symlinks by default to efficiently store duplicated files but your machine does not support them in C:\\Users\\Admin\\.cache\\huggingface\\hub\\models--google--flan-t5-large. Caching files will still work but in a degraded version that might require more space on your disk. This warning can be disabled by setting the `HF_HUB_DISABLE_SYMLINKS_WARNING` environment variable. For more details, see https://huggingface.co/docs/huggingface_hub/how-to-cache#limitations.\n",
            "To support symlinks on Windows, you either need to activate Developer Mode or to run Python as an administrator. In order to see activate developer mode, see this article: https://docs.microsoft.com/en-us/windows/apps/get-started/enable-your-device-for-development\n",
            "  warnings.warn(message)\n"
          ]
        },
        {
          "data": {
            "application/vnd.jupyter.widget-view+json": {
              "model_id": "0a24cc019aa1430fa5850d7c9eeddd36",
              "version_major": 2,
              "version_minor": 0
            },
            "text/plain": [
              "spiece.model:   0%|          | 0.00/792k [00:00<?, ?B/s]"
            ]
          },
          "metadata": {},
          "output_type": "display_data"
        },
        {
          "data": {
            "application/vnd.jupyter.widget-view+json": {
              "model_id": "3031e56bbaf141a2900403c74590c57f",
              "version_major": 2,
              "version_minor": 0
            },
            "text/plain": [
              "tokenizer.json:   0%|          | 0.00/2.42M [00:00<?, ?B/s]"
            ]
          },
          "metadata": {},
          "output_type": "display_data"
        },
        {
          "data": {
            "application/vnd.jupyter.widget-view+json": {
              "model_id": "5d68a97cc81c476ebc92e3058332bc49",
              "version_major": 2,
              "version_minor": 0
            },
            "text/plain": [
              "special_tokens_map.json:   0%|          | 0.00/2.20k [00:00<?, ?B/s]"
            ]
          },
          "metadata": {},
          "output_type": "display_data"
        }
      ],
      "source": [
        "tokenizer=AutoTokenizer.from_pretrained(model_id)"
      ]
    },
    {
      "cell_type": "code",
      "execution_count": null,
      "id": "2c8c8362-9ca4-43d4-822f-7dac6f9c25a5",
      "metadata": {
        "id": "2c8c8362-9ca4-43d4-822f-7dac6f9c25a5",
        "outputId": "2038221d-ec1b-45cf-d67d-fbd56912b18d",
        "colab": {
          "referenced_widgets": [
            "09954a18c42c4863b0da49326fa32d0d",
            "97f0d23b4f3c4e42b87efe31148edcbb",
            "26e25c4dfc5345ee8654a56640b184c8"
          ]
        }
      },
      "outputs": [
        {
          "data": {
            "application/vnd.jupyter.widget-view+json": {
              "model_id": "09954a18c42c4863b0da49326fa32d0d",
              "version_major": 2,
              "version_minor": 0
            },
            "text/plain": [
              "config.json:   0%|          | 0.00/662 [00:00<?, ?B/s]"
            ]
          },
          "metadata": {},
          "output_type": "display_data"
        },
        {
          "data": {
            "application/vnd.jupyter.widget-view+json": {
              "model_id": "97f0d23b4f3c4e42b87efe31148edcbb",
              "version_major": 2,
              "version_minor": 0
            },
            "text/plain": [
              "model.safetensors:   0%|          | 0.00/3.13G [00:00<?, ?B/s]"
            ]
          },
          "metadata": {},
          "output_type": "display_data"
        },
        {
          "data": {
            "application/vnd.jupyter.widget-view+json": {
              "model_id": "26e25c4dfc5345ee8654a56640b184c8",
              "version_major": 2,
              "version_minor": 0
            },
            "text/plain": [
              "generation_config.json:   0%|          | 0.00/147 [00:00<?, ?B/s]"
            ]
          },
          "metadata": {},
          "output_type": "display_data"
        },
        {
          "name": "stderr",
          "output_type": "stream",
          "text": [
            "WARNING:root:Some parameters are on the meta device device because they were offloaded to the disk and cpu.\n"
          ]
        }
      ],
      "source": [
        "model = AutoModelForSeq2SeqLM.from_pretrained(model_id,device_map='auto')"
      ]
    },
    {
      "cell_type": "code",
      "execution_count": null,
      "id": "97edb215-975d-4335-b5ac-6fb1a8f15438",
      "metadata": {
        "id": "97edb215-975d-4335-b5ac-6fb1a8f15438"
      },
      "outputs": [],
      "source": [
        "pipeline = pipeline(\"text2text-generation\", model=model, tokenizer=tokenizer, max_length=128)"
      ]
    },
    {
      "cell_type": "code",
      "execution_count": null,
      "id": "ae1ed70e-e1d2-4011-866f-c8a58aac405f",
      "metadata": {
        "id": "ae1ed70e-e1d2-4011-866f-c8a58aac405f"
      },
      "outputs": [],
      "source": [
        "local_llm = HuggingFacePipeline(pipeline=pipeline)"
      ]
    },
    {
      "cell_type": "code",
      "execution_count": null,
      "id": "65492ee4-4f73-4769-b84e-8d768bc5a634",
      "metadata": {
        "id": "65492ee4-4f73-4769-b84e-8d768bc5a634"
      },
      "outputs": [],
      "source": [
        "prompt = PromptTemplate(\n",
        "    input_variables=[\"name\"],\n",
        "    template=\"Can you tell me about footballer {name}\"\n",
        ")"
      ]
    },
    {
      "cell_type": "code",
      "execution_count": null,
      "id": "9bf2f8e8-3679-42db-b0fc-c65bc98f4115",
      "metadata": {
        "id": "9bf2f8e8-3679-42db-b0fc-c65bc98f4115"
      },
      "outputs": [],
      "source": [
        "chain = LLMChain(llm=local_llm,prompt = prompt)"
      ]
    },
    {
      "cell_type": "code",
      "execution_count": null,
      "id": "4ce6c718-39ef-4138-8a89-323678d05919",
      "metadata": {
        "id": "4ce6c718-39ef-4138-8a89-323678d05919",
        "outputId": "494fa576-b4f5-4fcd-ac60-0a870ecc0a4a"
      },
      "outputs": [
        {
          "data": {
            "text/plain": [
              "'Sunil Chetri (born 24 August 1971) is a former Indian footballer who played as a forward.'"
            ]
          },
          "execution_count": 31,
          "metadata": {},
          "output_type": "execute_result"
        }
      ],
      "source": [
        "chain.run(\"sunil chetri\")"
      ]
    },
    {
      "cell_type": "code",
      "execution_count": null,
      "id": "3edc3c03-77dc-4aef-8dc3-90edbf674616",
      "metadata": {
        "id": "3edc3c03-77dc-4aef-8dc3-90edbf674616"
      },
      "outputs": [],
      "source": [
        ""
      ]
    }
  ],
  "metadata": {
    "kernelspec": {
      "display_name": "Python 3 (ipykernel)",
      "language": "python",
      "name": "python3"
    },
    "language_info": {
      "codemirror_mode": {
        "name": "ipython",
        "version": 3
      },
      "file_extension": ".py",
      "mimetype": "text/x-python",
      "name": "python",
      "nbconvert_exporter": "python",
      "pygments_lexer": "ipython3",
      "version": "3.9.18"
    },
    "colab": {
      "provenance": [],
      "include_colab_link": true
    }
  },
  "nbformat": 4,
  "nbformat_minor": 5
}